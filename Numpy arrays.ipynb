{
 "cells": [
  {
   "cell_type": "code",
   "execution_count": 2,
   "id": "4bb4277c",
   "metadata": {},
   "outputs": [],
   "source": [
    "import numpy as np"
   ]
  },
  {
   "cell_type": "markdown",
   "id": "fe4573ed",
   "metadata": {},
   "source": [
    "# Array a partir de uma lista"
   ]
  },
  {
   "cell_type": "code",
   "execution_count": 7,
   "id": "b62054a7",
   "metadata": {},
   "outputs": [],
   "source": [
    "qtd = [2,5,10,20,35]\n",
    "custo = [100,150,450,320,195]"
   ]
  },
  {
   "cell_type": "markdown",
   "id": "c302836a",
   "metadata": {},
   "source": [
    "#array é diferente de lista"
   ]
  },
  {
   "cell_type": "code",
   "execution_count": 8,
   "id": "8fffc2f8",
   "metadata": {},
   "outputs": [],
   "source": [
    "arr1 = numpy.array(qtd)"
   ]
  },
  {
   "cell_type": "code",
   "execution_count": 9,
   "id": "46a7cb24",
   "metadata": {},
   "outputs": [],
   "source": [
    "arr2 = numpy.array(custo)"
   ]
  },
  {
   "cell_type": "code",
   "execution_count": 11,
   "id": "e187ed17",
   "metadata": {},
   "outputs": [
    {
     "ename": "TypeError",
     "evalue": "can't multiply sequence by non-int of type 'list'",
     "output_type": "error",
     "traceback": [
      "\u001b[1;31m---------------------------------------------------------------------------\u001b[0m",
      "\u001b[1;31mTypeError\u001b[0m                                 Traceback (most recent call last)",
      "\u001b[1;32m<ipython-input-11-c9f479282d7b>\u001b[0m in \u001b[0;36m<module>\u001b[1;34m\u001b[0m\n\u001b[1;32m----> 1\u001b[1;33m \u001b[0mestoque\u001b[0m \u001b[1;33m=\u001b[0m \u001b[0mqtd\u001b[0m\u001b[1;33m*\u001b[0m\u001b[0mcusto\u001b[0m\u001b[1;33m\u001b[0m\u001b[1;33m\u001b[0m\u001b[0m\n\u001b[0m",
      "\u001b[1;31mTypeError\u001b[0m: can't multiply sequence by non-int of type 'list'"
     ]
    }
   ],
   "source": [
    "estoque = qtd*custo"
   ]
  },
  {
   "cell_type": "code",
   "execution_count": 12,
   "id": "47d89ffa",
   "metadata": {},
   "outputs": [],
   "source": [
    "estoque = arr1*arr2"
   ]
  },
  {
   "cell_type": "code",
   "execution_count": 13,
   "id": "c4a718c5",
   "metadata": {},
   "outputs": [
    {
     "data": {
      "text/plain": [
       "array([ 200,  750, 4500, 6400, 6825])"
      ]
     },
     "execution_count": 13,
     "metadata": {},
     "output_type": "execute_result"
    }
   ],
   "source": [
    "estoque"
   ]
  },
  {
   "cell_type": "code",
   "execution_count": 14,
   "id": "94faef8c",
   "metadata": {},
   "outputs": [],
   "source": [
    "custo = [100,150,450,320,195]\n",
    "venda = [123,234,563,643,213]"
   ]
  },
  {
   "cell_type": "code",
   "execution_count": 15,
   "id": "ae06b2e3",
   "metadata": {},
   "outputs": [],
   "source": [
    "arr3 = np.array(custo)"
   ]
  },
  {
   "cell_type": "code",
   "execution_count": 16,
   "id": "1564be6d",
   "metadata": {},
   "outputs": [],
   "source": [
    "arr4 = np.array(venda)"
   ]
  },
  {
   "cell_type": "code",
   "execution_count": 17,
   "id": "259ad953",
   "metadata": {},
   "outputs": [],
   "source": [
    "lucro = arr4 - arr3"
   ]
  },
  {
   "cell_type": "code",
   "execution_count": 18,
   "id": "255d9c48",
   "metadata": {},
   "outputs": [
    {
     "data": {
      "text/plain": [
       "array([ 23,  84, 113, 323,  18])"
      ]
     },
     "execution_count": 18,
     "metadata": {},
     "output_type": "execute_result"
    }
   ],
   "source": [
    "lucro"
   ]
  },
  {
   "cell_type": "markdown",
   "id": "0693d01c",
   "metadata": {},
   "source": [
    "## Arrays a partir do numpy"
   ]
  },
  {
   "cell_type": "markdown",
   "id": "f806198d",
   "metadata": {},
   "source": [
    "## arange()"
   ]
  },
  {
   "cell_type": "code",
   "execution_count": 24,
   "id": "1f0e705a",
   "metadata": {},
   "outputs": [
    {
     "data": {
      "text/plain": [
       "array([10, 11, 12, 13, 14, 15, 16, 17, 18, 19])"
      ]
     },
     "execution_count": 24,
     "metadata": {},
     "output_type": "execute_result"
    }
   ],
   "source": [
    "np.arange(10,20)"
   ]
  },
  {
   "cell_type": "code",
   "execution_count": 25,
   "id": "df93a2d5",
   "metadata": {},
   "outputs": [
    {
     "data": {
      "text/plain": [
       "array([ 10.,  12.,  14.,  16.,  18.,  20.,  22.,  24.,  26.,  28.,  30.,\n",
       "        32.,  34.,  36.,  38.,  40.,  42.,  44.,  46.,  48.,  50.,  52.,\n",
       "        54.,  56.,  58.,  60.,  62.,  64.,  66.,  68.,  70.,  72.,  74.,\n",
       "        76.,  78.,  80.,  82.,  84.,  86.,  88.,  90.,  92.,  94.,  96.,\n",
       "        98., 100.])"
      ]
     },
     "execution_count": 25,
     "metadata": {},
     "output_type": "execute_result"
    }
   ],
   "source": [
    "np.arange(10,101,2,dtype=float)"
   ]
  },
  {
   "cell_type": "markdown",
   "id": "c0ff7fe7",
   "metadata": {},
   "source": [
    "## linspace"
   ]
  },
  {
   "cell_type": "code",
   "execution_count": 27,
   "id": "b9d66c4a",
   "metadata": {},
   "outputs": [
    {
     "data": {
      "text/plain": [
       "array([0.        , 0.11111111, 0.22222222, 0.33333333, 0.44444444,\n",
       "       0.55555556, 0.66666667, 0.77777778, 0.88888889, 1.        ])"
      ]
     },
     "execution_count": 27,
     "metadata": {},
     "output_type": "execute_result"
    }
   ],
   "source": [
    "np.linspace(0,1,10)"
   ]
  },
  {
   "cell_type": "code",
   "execution_count": 28,
   "id": "fbe019d0",
   "metadata": {},
   "outputs": [
    {
     "data": {
      "text/plain": [
       "array([ 1.,  2.,  3.,  4.,  5.,  6.,  7.,  8.,  9., 10.])"
      ]
     },
     "execution_count": 28,
     "metadata": {},
     "output_type": "execute_result"
    }
   ],
   "source": [
    "np.linspace(1,10,10)"
   ]
  },
  {
   "cell_type": "markdown",
   "id": "3e0e5ea8",
   "metadata": {},
   "source": [
    "## random - rand, randn, randint"
   ]
  },
  {
   "cell_type": "code",
   "execution_count": 30,
   "id": "dc21e6fa",
   "metadata": {},
   "outputs": [
    {
     "data": {
      "text/plain": [
       "array([0.70651525, 0.56389371, 0.24625839, 0.88761638, 0.396379  ,\n",
       "       0.82261863, 0.96679163, 0.18678446, 0.63183388, 0.50721289])"
      ]
     },
     "execution_count": 30,
     "metadata": {},
     "output_type": "execute_result"
    }
   ],
   "source": [
    "np.random.rand(10)"
   ]
  },
  {
   "cell_type": "code",
   "execution_count": 31,
   "id": "07084580",
   "metadata": {},
   "outputs": [
    {
     "data": {
      "text/plain": [
       "array([ 0.36707305, -2.17455616,  0.32140748,  1.88921624,  0.1693971 ,\n",
       "        0.36776937,  0.25309907,  0.7903123 ,  0.57056146, -1.07665958])"
      ]
     },
     "execution_count": 31,
     "metadata": {},
     "output_type": "execute_result"
    }
   ],
   "source": [
    "np.random.randn(10)"
   ]
  },
  {
   "cell_type": "code",
   "execution_count": 34,
   "id": "eb66ef77",
   "metadata": {},
   "outputs": [],
   "source": [
    "arr = np.random.randint(10,100,30)"
   ]
  },
  {
   "cell_type": "code",
   "execution_count": 35,
   "id": "4f3ffbfb",
   "metadata": {},
   "outputs": [
    {
     "data": {
      "text/plain": [
       "30"
      ]
     },
     "execution_count": 35,
     "metadata": {},
     "output_type": "execute_result"
    }
   ],
   "source": [
    "len(arr)"
   ]
  },
  {
   "cell_type": "markdown",
   "id": "9c4ad9e6",
   "metadata": {},
   "source": [
    "## Array unidimensional"
   ]
  },
  {
   "cell_type": "code",
   "execution_count": 36,
   "id": "9a6e73bf",
   "metadata": {},
   "outputs": [
    {
     "data": {
      "text/plain": [
       "array([82, 41, 62, 74, 25, 97, 78, 42, 30, 30, 71, 42, 43, 35, 30, 38, 72,\n",
       "       23, 29, 30, 54, 48, 50, 81, 72, 11, 48, 57, 87, 47])"
      ]
     },
     "execution_count": 36,
     "metadata": {},
     "output_type": "execute_result"
    }
   ],
   "source": [
    "arr "
   ]
  },
  {
   "cell_type": "markdown",
   "id": "1a2bf996",
   "metadata": {},
   "source": [
    "## Array bidimensional"
   ]
  },
  {
   "cell_type": "code",
   "execution_count": 39,
   "id": "b4b4bf0c",
   "metadata": {},
   "outputs": [
    {
     "data": {
      "text/plain": [
       "array([[0., 0., 0., 0.],\n",
       "       [0., 0., 0., 0.],\n",
       "       [0., 0., 0., 0.],\n",
       "       [0., 0., 0., 0.],\n",
       "       [0., 0., 0., 0.]])"
      ]
     },
     "execution_count": 39,
     "metadata": {},
     "output_type": "execute_result"
    }
   ],
   "source": [
    "np.zeros((5,4)) "
   ]
  },
  {
   "cell_type": "code",
   "execution_count": 40,
   "id": "36b48181",
   "metadata": {},
   "outputs": [
    {
     "data": {
      "text/plain": [
       "array([[1., 1., 1., 1., 1.],\n",
       "       [1., 1., 1., 1., 1.],\n",
       "       [1., 1., 1., 1., 1.],\n",
       "       [1., 1., 1., 1., 1.],\n",
       "       [1., 1., 1., 1., 1.]])"
      ]
     },
     "execution_count": 40,
     "metadata": {},
     "output_type": "execute_result"
    }
   ],
   "source": [
    "np.ones((5,5))"
   ]
  },
  {
   "cell_type": "code",
   "execution_count": 42,
   "id": "907acb05",
   "metadata": {},
   "outputs": [
    {
     "data": {
      "text/plain": [
       "array([[1., 0., 0., 0., 0., 0.],\n",
       "       [0., 1., 0., 0., 0., 0.],\n",
       "       [0., 0., 1., 0., 0., 0.],\n",
       "       [0., 0., 0., 1., 0., 0.],\n",
       "       [0., 0., 0., 0., 1., 0.],\n",
       "       [0., 0., 0., 0., 0., 1.]])"
      ]
     },
     "execution_count": 42,
     "metadata": {},
     "output_type": "execute_result"
    }
   ],
   "source": [
    "np.eye(6)"
   ]
  },
  {
   "cell_type": "markdown",
   "id": "855ac13c",
   "metadata": {},
   "source": [
    "## Criando array unidimensional"
   ]
  },
  {
   "cell_type": "code",
   "execution_count": 44,
   "id": "dddff838",
   "metadata": {},
   "outputs": [],
   "source": [
    "arr = np.arange(1,11,dtype=int)"
   ]
  },
  {
   "cell_type": "code",
   "execution_count": 45,
   "id": "eb7b5e47",
   "metadata": {},
   "outputs": [
    {
     "data": {
      "text/plain": [
       "array([ 1,  2,  3,  4,  5,  6,  7,  8,  9, 10])"
      ]
     },
     "execution_count": 45,
     "metadata": {},
     "output_type": "execute_result"
    }
   ],
   "source": [
    "arr"
   ]
  },
  {
   "cell_type": "markdown",
   "id": "c33572c4",
   "metadata": {},
   "source": [
    "## Indexação de arrays unidimensionais"
   ]
  },
  {
   "cell_type": "code",
   "execution_count": 47,
   "id": "495f8f60",
   "metadata": {},
   "outputs": [
    {
     "data": {
      "text/plain": [
       "5"
      ]
     },
     "execution_count": 47,
     "metadata": {},
     "output_type": "execute_result"
    }
   ],
   "source": [
    "arr[4]"
   ]
  },
  {
   "cell_type": "code",
   "execution_count": 48,
   "id": "2ee5071f",
   "metadata": {},
   "outputs": [
    {
     "data": {
      "text/plain": [
       "array([3, 4, 5])"
      ]
     },
     "execution_count": 48,
     "metadata": {},
     "output_type": "execute_result"
    }
   ],
   "source": [
    "arr[2:5]"
   ]
  },
  {
   "cell_type": "code",
   "execution_count": 49,
   "id": "a8edb0bb",
   "metadata": {},
   "outputs": [
    {
     "data": {
      "text/plain": [
       "array([1, 2, 3, 4, 5])"
      ]
     },
     "execution_count": 49,
     "metadata": {},
     "output_type": "execute_result"
    }
   ],
   "source": [
    "arr[:5]"
   ]
  },
  {
   "cell_type": "code",
   "execution_count": 50,
   "id": "2780373e",
   "metadata": {},
   "outputs": [
    {
     "data": {
      "text/plain": [
       "array([ 3,  4,  5,  6,  7,  8,  9, 10])"
      ]
     },
     "execution_count": 50,
     "metadata": {},
     "output_type": "execute_result"
    }
   ],
   "source": [
    "arr[2:]"
   ]
  },
  {
   "cell_type": "code",
   "execution_count": 51,
   "id": "7017bd1d",
   "metadata": {},
   "outputs": [
    {
     "data": {
      "text/plain": [
       "array([ 1,  2,  3,  4,  5,  6,  7,  8,  9, 10])"
      ]
     },
     "execution_count": 51,
     "metadata": {},
     "output_type": "execute_result"
    }
   ],
   "source": [
    "arr[:]"
   ]
  },
  {
   "cell_type": "markdown",
   "id": "74eedec9",
   "metadata": {},
   "source": [
    "## Indexação de arrays bidimensionais"
   ]
  },
  {
   "cell_type": "code",
   "execution_count": 53,
   "id": "dff1e320",
   "metadata": {},
   "outputs": [],
   "source": [
    "arr2 = np.random.randint(10,50,size=(3,3))"
   ]
  },
  {
   "cell_type": "code",
   "execution_count": 54,
   "id": "1c8c4e65",
   "metadata": {},
   "outputs": [
    {
     "data": {
      "text/plain": [
       "array([[13, 45, 34],\n",
       "       [17, 11, 39],\n",
       "       [22, 18, 36]])"
      ]
     },
     "execution_count": 54,
     "metadata": {},
     "output_type": "execute_result"
    }
   ],
   "source": [
    "arr2"
   ]
  },
  {
   "cell_type": "code",
   "execution_count": 55,
   "id": "3a8d6092",
   "metadata": {},
   "outputs": [
    {
     "data": {
      "text/plain": [
       "11"
      ]
     },
     "execution_count": 55,
     "metadata": {},
     "output_type": "execute_result"
    }
   ],
   "source": [
    "arr2[1][1]"
   ]
  },
  {
   "cell_type": "code",
   "execution_count": 56,
   "id": "e843744f",
   "metadata": {},
   "outputs": [
    {
     "data": {
      "text/plain": [
       "39"
      ]
     },
     "execution_count": 56,
     "metadata": {},
     "output_type": "execute_result"
    }
   ],
   "source": [
    "arr2[1][2]"
   ]
  },
  {
   "cell_type": "code",
   "execution_count": null,
   "id": "3fa1d9aa",
   "metadata": {},
   "outputs": [],
   "source": [
    "# arr2[linha][coluna]"
   ]
  },
  {
   "cell_type": "code",
   "execution_count": 59,
   "id": "a3aadd95",
   "metadata": {},
   "outputs": [
    {
     "data": {
      "text/plain": [
       "array([22, 18])"
      ]
     },
     "execution_count": 59,
     "metadata": {},
     "output_type": "execute_result"
    }
   ],
   "source": [
    "arr2[2][0:2]"
   ]
  },
  {
   "cell_type": "code",
   "execution_count": 60,
   "id": "8b7413d9",
   "metadata": {},
   "outputs": [
    {
     "data": {
      "text/plain": [
       "36"
      ]
     },
     "execution_count": 60,
     "metadata": {},
     "output_type": "execute_result"
    }
   ],
   "source": [
    "arr2[2,2]"
   ]
  },
  {
   "cell_type": "code",
   "execution_count": 61,
   "id": "2db3a2f9",
   "metadata": {},
   "outputs": [
    {
     "data": {
      "text/plain": [
       "array([[11, 39],\n",
       "       [18, 36]])"
      ]
     },
     "execution_count": 61,
     "metadata": {},
     "output_type": "execute_result"
    }
   ],
   "source": [
    "arr2[1:,1:]"
   ]
  },
  {
   "cell_type": "code",
   "execution_count": 62,
   "id": "8e26f5e5",
   "metadata": {},
   "outputs": [],
   "source": [
    "#lin = 1 2\n",
    "#col = 2"
   ]
  },
  {
   "cell_type": "code",
   "execution_count": 64,
   "id": "556a7f45",
   "metadata": {},
   "outputs": [
    {
     "data": {
      "text/plain": [
       "array([[39],\n",
       "       [36]])"
      ]
     },
     "execution_count": 64,
     "metadata": {},
     "output_type": "execute_result"
    }
   ],
   "source": [
    "arr2[1:3, 2:3]"
   ]
  },
  {
   "cell_type": "code",
   "execution_count": 65,
   "id": "8ea8ca04",
   "metadata": {},
   "outputs": [
    {
     "data": {
      "text/plain": [
       "array([[13, 45, 34],\n",
       "       [17, 11, 39],\n",
       "       [22, 18, 36]])"
      ]
     },
     "execution_count": 65,
     "metadata": {},
     "output_type": "execute_result"
    }
   ],
   "source": [
    "arr2"
   ]
  },
  {
   "cell_type": "code",
   "execution_count": 68,
   "id": "2d48fca7",
   "metadata": {},
   "outputs": [
    {
     "data": {
      "text/plain": [
       "array([[22, 18, 36],\n",
       "       [13, 45, 34]])"
      ]
     },
     "execution_count": 68,
     "metadata": {},
     "output_type": "execute_result"
    }
   ],
   "source": [
    "arr2[[2,0]]"
   ]
  },
  {
   "cell_type": "markdown",
   "id": "da1c3936",
   "metadata": {},
   "source": [
    "## Selecionando Arrays"
   ]
  },
  {
   "cell_type": "code",
   "execution_count": 3,
   "id": "c5e74e94",
   "metadata": {},
   "outputs": [],
   "source": [
    "cadastro = np.random.randint(15,51,size=(50,10))"
   ]
  },
  {
   "cell_type": "code",
   "execution_count": 4,
   "id": "93e23d95",
   "metadata": {},
   "outputs": [
    {
     "data": {
      "text/plain": [
       "array([[20, 41, 19, 47, 27, 21, 34, 18, 26, 30],\n",
       "       [45, 21, 18, 34, 17, 35, 39, 45, 47, 15],\n",
       "       [42, 23, 15, 22, 27, 21, 48, 37, 22, 29],\n",
       "       [28, 21, 15, 23, 33, 27, 35, 21, 46, 38],\n",
       "       [40, 33, 23, 30, 46, 45, 34, 16, 16, 23],\n",
       "       [33, 25, 44, 35, 38, 39, 20, 22, 26, 20],\n",
       "       [23, 34, 36, 16, 21, 32, 45, 37, 42, 40],\n",
       "       [17, 50, 39, 33, 42, 23, 50, 17, 29, 30],\n",
       "       [36, 19, 50, 41, 37, 34, 44, 29, 35, 48],\n",
       "       [28, 30, 17, 43, 26, 30, 43, 26, 50, 45],\n",
       "       [34, 46, 35, 39, 50, 18, 34, 47, 27, 27],\n",
       "       [31, 18, 32, 32, 27, 43, 50, 33, 47, 46],\n",
       "       [32, 31, 18, 32, 38, 44, 32, 29, 27, 40],\n",
       "       [50, 46, 42, 16, 16, 48, 40, 36, 36, 39],\n",
       "       [36, 47, 29, 28, 24, 25, 21, 17, 19, 39],\n",
       "       [43, 49, 49, 17, 17, 24, 40, 49, 47, 37],\n",
       "       [19, 46, 34, 25, 35, 36, 39, 23, 36, 37],\n",
       "       [45, 45, 27, 20, 40, 26, 18, 33, 26, 43],\n",
       "       [20, 42, 45, 15, 37, 16, 29, 36, 21, 37],\n",
       "       [33, 35, 50, 31, 30, 33, 23, 31, 32, 35],\n",
       "       [21, 21, 38, 44, 25, 37, 33, 46, 27, 32],\n",
       "       [37, 19, 38, 32, 30, 15, 21, 22, 20, 22],\n",
       "       [44, 30, 32, 27, 25, 49, 24, 18, 30, 37],\n",
       "       [21, 24, 45, 43, 32, 49, 34, 19, 45, 37],\n",
       "       [36, 43, 41, 22, 49, 41, 34, 42, 39, 49],\n",
       "       [20, 17, 29, 43, 35, 33, 37, 39, 39, 44],\n",
       "       [17, 24, 36, 18, 15, 17, 27, 43, 36, 23],\n",
       "       [45, 25, 30, 27, 23, 30, 48, 43, 41, 29],\n",
       "       [34, 45, 33, 30, 49, 24, 23, 20, 21, 24],\n",
       "       [27, 44, 28, 41, 26, 34, 16, 15, 27, 49],\n",
       "       [40, 45, 20, 42, 43, 39, 50, 31, 43, 17],\n",
       "       [40, 33, 26, 32, 17, 31, 34, 29, 24, 25],\n",
       "       [46, 30, 32, 49, 34, 27, 39, 25, 38, 25],\n",
       "       [40, 34, 35, 42, 48, 15, 20, 20, 27, 30],\n",
       "       [19, 43, 41, 19, 31, 36, 41, 26, 33, 32],\n",
       "       [33, 19, 18, 26, 22, 36, 20, 40, 32, 31],\n",
       "       [41, 15, 22, 43, 18, 32, 28, 41, 18, 22],\n",
       "       [15, 34, 49, 47, 32, 38, 47, 35, 20, 25],\n",
       "       [21, 17, 18, 31, 23, 44, 16, 38, 26, 29],\n",
       "       [30, 23, 29, 31, 17, 28, 18, 28, 45, 29],\n",
       "       [24, 45, 29, 24, 47, 49, 45, 29, 25, 37],\n",
       "       [42, 45, 48, 24, 48, 29, 26, 37, 15, 41],\n",
       "       [17, 25, 42, 39, 42, 35, 20, 49, 49, 16],\n",
       "       [49, 17, 29, 30, 34, 19, 27, 31, 15, 26],\n",
       "       [15, 30, 22, 47, 37, 17, 24, 33, 34, 22],\n",
       "       [42, 17, 31, 47, 40, 33, 48, 20, 31, 31],\n",
       "       [25, 50, 35, 19, 45, 48, 24, 24, 23, 29],\n",
       "       [15, 45, 45, 16, 36, 40, 37, 35, 21, 20],\n",
       "       [50, 18, 23, 36, 33, 31, 22, 50, 15, 39],\n",
       "       [32, 21, 17, 28, 28, 40, 32, 41, 41, 40]])"
      ]
     },
     "execution_count": 4,
     "metadata": {},
     "output_type": "execute_result"
    }
   ],
   "source": [
    "cadastro"
   ]
  },
  {
   "cell_type": "code",
   "execution_count": 5,
   "id": "9b439560",
   "metadata": {},
   "outputs": [],
   "source": [
    "cadastro_maior18 = cadastro >18"
   ]
  },
  {
   "cell_type": "code",
   "execution_count": 6,
   "id": "13742e47",
   "metadata": {},
   "outputs": [
    {
     "data": {
      "text/plain": [
       "array([[ True,  True,  True,  True,  True,  True,  True, False,  True,\n",
       "         True],\n",
       "       [ True,  True, False,  True, False,  True,  True,  True,  True,\n",
       "        False],\n",
       "       [ True,  True, False,  True,  True,  True,  True,  True,  True,\n",
       "         True],\n",
       "       [ True,  True, False,  True,  True,  True,  True,  True,  True,\n",
       "         True],\n",
       "       [ True,  True,  True,  True,  True,  True,  True, False, False,\n",
       "         True],\n",
       "       [ True,  True,  True,  True,  True,  True,  True,  True,  True,\n",
       "         True],\n",
       "       [ True,  True,  True, False,  True,  True,  True,  True,  True,\n",
       "         True],\n",
       "       [False,  True,  True,  True,  True,  True,  True, False,  True,\n",
       "         True],\n",
       "       [ True,  True,  True,  True,  True,  True,  True,  True,  True,\n",
       "         True],\n",
       "       [ True,  True, False,  True,  True,  True,  True,  True,  True,\n",
       "         True],\n",
       "       [ True,  True,  True,  True,  True, False,  True,  True,  True,\n",
       "         True],\n",
       "       [ True, False,  True,  True,  True,  True,  True,  True,  True,\n",
       "         True],\n",
       "       [ True,  True, False,  True,  True,  True,  True,  True,  True,\n",
       "         True],\n",
       "       [ True,  True,  True, False, False,  True,  True,  True,  True,\n",
       "         True],\n",
       "       [ True,  True,  True,  True,  True,  True,  True, False,  True,\n",
       "         True],\n",
       "       [ True,  True,  True, False, False,  True,  True,  True,  True,\n",
       "         True],\n",
       "       [ True,  True,  True,  True,  True,  True,  True,  True,  True,\n",
       "         True],\n",
       "       [ True,  True,  True,  True,  True,  True, False,  True,  True,\n",
       "         True],\n",
       "       [ True,  True,  True, False,  True, False,  True,  True,  True,\n",
       "         True],\n",
       "       [ True,  True,  True,  True,  True,  True,  True,  True,  True,\n",
       "         True],\n",
       "       [ True,  True,  True,  True,  True,  True,  True,  True,  True,\n",
       "         True],\n",
       "       [ True,  True,  True,  True,  True, False,  True,  True,  True,\n",
       "         True],\n",
       "       [ True,  True,  True,  True,  True,  True,  True, False,  True,\n",
       "         True],\n",
       "       [ True,  True,  True,  True,  True,  True,  True,  True,  True,\n",
       "         True],\n",
       "       [ True,  True,  True,  True,  True,  True,  True,  True,  True,\n",
       "         True],\n",
       "       [ True, False,  True,  True,  True,  True,  True,  True,  True,\n",
       "         True],\n",
       "       [False,  True,  True, False, False, False,  True,  True,  True,\n",
       "         True],\n",
       "       [ True,  True,  True,  True,  True,  True,  True,  True,  True,\n",
       "         True],\n",
       "       [ True,  True,  True,  True,  True,  True,  True,  True,  True,\n",
       "         True],\n",
       "       [ True,  True,  True,  True,  True,  True, False, False,  True,\n",
       "         True],\n",
       "       [ True,  True,  True,  True,  True,  True,  True,  True,  True,\n",
       "        False],\n",
       "       [ True,  True,  True,  True, False,  True,  True,  True,  True,\n",
       "         True],\n",
       "       [ True,  True,  True,  True,  True,  True,  True,  True,  True,\n",
       "         True],\n",
       "       [ True,  True,  True,  True,  True, False,  True,  True,  True,\n",
       "         True],\n",
       "       [ True,  True,  True,  True,  True,  True,  True,  True,  True,\n",
       "         True],\n",
       "       [ True,  True, False,  True,  True,  True,  True,  True,  True,\n",
       "         True],\n",
       "       [ True, False,  True,  True, False,  True,  True,  True, False,\n",
       "         True],\n",
       "       [False,  True,  True,  True,  True,  True,  True,  True,  True,\n",
       "         True],\n",
       "       [ True, False, False,  True,  True,  True, False,  True,  True,\n",
       "         True],\n",
       "       [ True,  True,  True,  True, False,  True, False,  True,  True,\n",
       "         True],\n",
       "       [ True,  True,  True,  True,  True,  True,  True,  True,  True,\n",
       "         True],\n",
       "       [ True,  True,  True,  True,  True,  True,  True,  True, False,\n",
       "         True],\n",
       "       [False,  True,  True,  True,  True,  True,  True,  True,  True,\n",
       "        False],\n",
       "       [ True, False,  True,  True,  True,  True,  True,  True, False,\n",
       "         True],\n",
       "       [False,  True,  True,  True,  True, False,  True,  True,  True,\n",
       "         True],\n",
       "       [ True, False,  True,  True,  True,  True,  True,  True,  True,\n",
       "         True],\n",
       "       [ True,  True,  True,  True,  True,  True,  True,  True,  True,\n",
       "         True],\n",
       "       [False,  True,  True, False,  True,  True,  True,  True,  True,\n",
       "         True],\n",
       "       [ True, False,  True,  True,  True,  True,  True,  True, False,\n",
       "         True],\n",
       "       [ True,  True, False,  True,  True,  True,  True,  True,  True,\n",
       "         True]])"
      ]
     },
     "execution_count": 6,
     "metadata": {},
     "output_type": "execute_result"
    }
   ],
   "source": [
    "cadastro_maior18"
   ]
  },
  {
   "cell_type": "code",
   "execution_count": 12,
   "id": "2f56980d",
   "metadata": {},
   "outputs": [
    {
     "data": {
      "text/plain": [
       "array([20, 41, 19, 47, 27, 21, 34, 26, 30, 45, 21, 34, 35, 39, 45, 47, 42,\n",
       "       23, 22, 27, 21, 48, 37, 22, 29, 28, 21, 23, 33, 27, 35, 21, 46, 38,\n",
       "       40, 33, 23, 30, 46, 45, 34, 23, 33, 25, 44, 35, 38, 39, 20, 22, 26,\n",
       "       20, 23, 34, 36, 21, 32, 45, 37, 42, 40, 50, 39, 33, 42, 23, 50, 29,\n",
       "       30, 36, 19, 50, 41, 37, 34, 44, 29, 35, 48, 28, 30, 43, 26, 30, 43,\n",
       "       26, 50, 45, 34, 46, 35, 39, 50, 34, 47, 27, 27, 31, 32, 32, 27, 43,\n",
       "       50, 33, 47, 46, 32, 31, 32, 38, 44, 32, 29, 27, 40, 50, 46, 42, 48,\n",
       "       40, 36, 36, 39, 36, 47, 29, 28, 24, 25, 21, 19, 39, 43, 49, 49, 24,\n",
       "       40, 49, 47, 37, 19, 46, 34, 25, 35, 36, 39, 23, 36, 37, 45, 45, 27,\n",
       "       20, 40, 26, 33, 26, 43, 20, 42, 45, 37, 29, 36, 21, 37, 33, 35, 50,\n",
       "       31, 30, 33, 23, 31, 32, 35, 21, 21, 38, 44, 25, 37, 33, 46, 27, 32,\n",
       "       37, 19, 38, 32, 30, 21, 22, 20, 22, 44, 30, 32, 27, 25, 49, 24, 30,\n",
       "       37, 21, 24, 45, 43, 32, 49, 34, 19, 45, 37, 36, 43, 41, 22, 49, 41,\n",
       "       34, 42, 39, 49, 20, 29, 43, 35, 33, 37, 39, 39, 44, 24, 36, 27, 43,\n",
       "       36, 23, 45, 25, 30, 27, 23, 30, 48, 43, 41, 29, 34, 45, 33, 30, 49,\n",
       "       24, 23, 20, 21, 24, 27, 44, 28, 41, 26, 34, 27, 49, 40, 45, 20, 42,\n",
       "       43, 39, 50, 31, 43, 40, 33, 26, 32, 31, 34, 29, 24, 25, 46, 30, 32,\n",
       "       49, 34, 27, 39, 25, 38, 25, 40, 34, 35, 42, 48, 20, 20, 27, 30, 19,\n",
       "       43, 41, 19, 31, 36, 41, 26, 33, 32, 33, 19, 26, 22, 36, 20, 40, 32,\n",
       "       31, 41, 22, 43, 32, 28, 41, 22, 34, 49, 47, 32, 38, 47, 35, 20, 25,\n",
       "       21, 31, 23, 44, 38, 26, 29, 30, 23, 29, 31, 28, 28, 45, 29, 24, 45,\n",
       "       29, 24, 47, 49, 45, 29, 25, 37, 42, 45, 48, 24, 48, 29, 26, 37, 41,\n",
       "       25, 42, 39, 42, 35, 20, 49, 49, 49, 29, 30, 34, 19, 27, 31, 26, 30,\n",
       "       22, 47, 37, 24, 33, 34, 22, 42, 31, 47, 40, 33, 48, 20, 31, 31, 25,\n",
       "       50, 35, 19, 45, 48, 24, 24, 23, 29, 45, 45, 36, 40, 37, 35, 21, 20,\n",
       "       50, 23, 36, 33, 31, 22, 50, 39, 32, 21, 28, 28, 40, 32, 41, 41, 40])"
      ]
     },
     "execution_count": 12,
     "metadata": {},
     "output_type": "execute_result"
    }
   ],
   "source": [
    "cadastro[cadastro_maior18]"
   ]
  },
  {
   "cell_type": "code",
   "execution_count": 13,
   "id": "e5b757f3",
   "metadata": {},
   "outputs": [],
   "source": [
    "arr3 = cadastro[cadastro_maior18]"
   ]
  },
  {
   "cell_type": "code",
   "execution_count": 14,
   "id": "6ff8da4c",
   "metadata": {},
   "outputs": [
    {
     "data": {
      "text/plain": [
       "442"
      ]
     },
     "execution_count": 14,
     "metadata": {},
     "output_type": "execute_result"
    }
   ],
   "source": [
    "len(arr3)"
   ]
  },
  {
   "cell_type": "code",
   "execution_count": 15,
   "id": "40c0360a",
   "metadata": {},
   "outputs": [
    {
     "data": {
      "text/plain": [
       "442"
      ]
     },
     "execution_count": 15,
     "metadata": {},
     "output_type": "execute_result"
    }
   ],
   "source": [
    "cadastro_maior18.sum()"
   ]
  },
  {
   "cell_type": "code",
   "execution_count": 16,
   "id": "456bd151",
   "metadata": {},
   "outputs": [
    {
     "data": {
      "text/plain": [
       "array([42, 23, 15, 22, 27, 21, 48, 37, 22, 29])"
      ]
     },
     "execution_count": 16,
     "metadata": {},
     "output_type": "execute_result"
    }
   ],
   "source": [
    "cadastro[2]"
   ]
  },
  {
   "cell_type": "code",
   "execution_count": 17,
   "id": "f2a6ec48",
   "metadata": {},
   "outputs": [],
   "source": [
    "arr4 = cadastro[cadastro>25]"
   ]
  },
  {
   "cell_type": "code",
   "execution_count": 18,
   "id": "bb24162b",
   "metadata": {},
   "outputs": [
    {
     "data": {
      "text/plain": [
       "345"
      ]
     },
     "execution_count": 18,
     "metadata": {},
     "output_type": "execute_result"
    }
   ],
   "source": [
    "len(arr4)"
   ]
  },
  {
   "cell_type": "code",
   "execution_count": 19,
   "id": "73b09809",
   "metadata": {},
   "outputs": [],
   "source": [
    "condicao = (cadastro>20)"
   ]
  },
  {
   "cell_type": "code",
   "execution_count": 20,
   "id": "d163b04f",
   "metadata": {},
   "outputs": [],
   "source": [
    "extraido = np.extract(condicao, cadastro)"
   ]
  },
  {
   "cell_type": "code",
   "execution_count": 21,
   "id": "5db8d8a3",
   "metadata": {},
   "outputs": [
    {
     "data": {
      "text/plain": [
       "array([41, 47, 27, 21, 34, 26, 30, 45, 21, 34, 35, 39, 45, 47, 42, 23, 22,\n",
       "       27, 21, 48, 37, 22, 29, 28, 21, 23, 33, 27, 35, 21, 46, 38, 40, 33,\n",
       "       23, 30, 46, 45, 34, 23, 33, 25, 44, 35, 38, 39, 22, 26, 23, 34, 36,\n",
       "       21, 32, 45, 37, 42, 40, 50, 39, 33, 42, 23, 50, 29, 30, 36, 50, 41,\n",
       "       37, 34, 44, 29, 35, 48, 28, 30, 43, 26, 30, 43, 26, 50, 45, 34, 46,\n",
       "       35, 39, 50, 34, 47, 27, 27, 31, 32, 32, 27, 43, 50, 33, 47, 46, 32,\n",
       "       31, 32, 38, 44, 32, 29, 27, 40, 50, 46, 42, 48, 40, 36, 36, 39, 36,\n",
       "       47, 29, 28, 24, 25, 21, 39, 43, 49, 49, 24, 40, 49, 47, 37, 46, 34,\n",
       "       25, 35, 36, 39, 23, 36, 37, 45, 45, 27, 40, 26, 33, 26, 43, 42, 45,\n",
       "       37, 29, 36, 21, 37, 33, 35, 50, 31, 30, 33, 23, 31, 32, 35, 21, 21,\n",
       "       38, 44, 25, 37, 33, 46, 27, 32, 37, 38, 32, 30, 21, 22, 22, 44, 30,\n",
       "       32, 27, 25, 49, 24, 30, 37, 21, 24, 45, 43, 32, 49, 34, 45, 37, 36,\n",
       "       43, 41, 22, 49, 41, 34, 42, 39, 49, 29, 43, 35, 33, 37, 39, 39, 44,\n",
       "       24, 36, 27, 43, 36, 23, 45, 25, 30, 27, 23, 30, 48, 43, 41, 29, 34,\n",
       "       45, 33, 30, 49, 24, 23, 21, 24, 27, 44, 28, 41, 26, 34, 27, 49, 40,\n",
       "       45, 42, 43, 39, 50, 31, 43, 40, 33, 26, 32, 31, 34, 29, 24, 25, 46,\n",
       "       30, 32, 49, 34, 27, 39, 25, 38, 25, 40, 34, 35, 42, 48, 27, 30, 43,\n",
       "       41, 31, 36, 41, 26, 33, 32, 33, 26, 22, 36, 40, 32, 31, 41, 22, 43,\n",
       "       32, 28, 41, 22, 34, 49, 47, 32, 38, 47, 35, 25, 21, 31, 23, 44, 38,\n",
       "       26, 29, 30, 23, 29, 31, 28, 28, 45, 29, 24, 45, 29, 24, 47, 49, 45,\n",
       "       29, 25, 37, 42, 45, 48, 24, 48, 29, 26, 37, 41, 25, 42, 39, 42, 35,\n",
       "       49, 49, 49, 29, 30, 34, 27, 31, 26, 30, 22, 47, 37, 24, 33, 34, 22,\n",
       "       42, 31, 47, 40, 33, 48, 31, 31, 25, 50, 35, 45, 48, 24, 24, 23, 29,\n",
       "       45, 45, 36, 40, 37, 35, 21, 50, 23, 36, 33, 31, 22, 50, 39, 32, 21,\n",
       "       28, 28, 40, 32, 41, 41, 40])"
      ]
     },
     "execution_count": 21,
     "metadata": {},
     "output_type": "execute_result"
    }
   ],
   "source": [
    "extraido"
   ]
  },
  {
   "cell_type": "code",
   "execution_count": null,
   "id": "499f73b0",
   "metadata": {},
   "outputs": [],
   "source": []
  }
 ],
 "metadata": {
  "kernelspec": {
   "display_name": "Python 3",
   "language": "python",
   "name": "python3"
  },
  "language_info": {
   "codemirror_mode": {
    "name": "ipython",
    "version": 3
   },
   "file_extension": ".py",
   "mimetype": "text/x-python",
   "name": "python",
   "nbconvert_exporter": "python",
   "pygments_lexer": "ipython3",
   "version": "3.8.8"
  }
 },
 "nbformat": 4,
 "nbformat_minor": 5
}
