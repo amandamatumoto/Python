{
 "cells": [
  {
   "cell_type": "markdown",
   "id": "3fb9a376",
   "metadata": {},
   "source": [
    "# Iniciando estudos em Python"
   ]
  },
  {
   "cell_type": "markdown",
   "id": "864ab928",
   "metadata": {},
   "source": [
    "## Tipos de variáveis e operadores"
   ]
  },
  {
   "cell_type": "markdown",
   "id": "58e24d61",
   "metadata": {},
   "source": [
    "### Variáveis numéricas"
   ]
  },
  {
   "cell_type": "code",
   "execution_count": 2,
   "id": "952f0c6b",
   "metadata": {},
   "outputs": [],
   "source": [
    "a = 10"
   ]
  },
  {
   "cell_type": "code",
   "execution_count": 3,
   "id": "90161ecb",
   "metadata": {},
   "outputs": [
    {
     "data": {
      "text/plain": [
       "10"
      ]
     },
     "execution_count": 3,
     "metadata": {},
     "output_type": "execute_result"
    }
   ],
   "source": [
    "a"
   ]
  },
  {
   "cell_type": "code",
   "execution_count": 4,
   "id": "d7e03749",
   "metadata": {},
   "outputs": [
    {
     "data": {
      "text/plain": [
       "int"
      ]
     },
     "execution_count": 4,
     "metadata": {},
     "output_type": "execute_result"
    }
   ],
   "source": [
    "type(a)"
   ]
  },
  {
   "cell_type": "code",
   "execution_count": 5,
   "id": "ff9b30f0",
   "metadata": {},
   "outputs": [],
   "source": [
    "b = 2.5"
   ]
  },
  {
   "cell_type": "code",
   "execution_count": 6,
   "id": "f553b38e",
   "metadata": {},
   "outputs": [
    {
     "data": {
      "text/plain": [
       "2.5"
      ]
     },
     "execution_count": 6,
     "metadata": {},
     "output_type": "execute_result"
    }
   ],
   "source": [
    "b"
   ]
  },
  {
   "cell_type": "code",
   "execution_count": 7,
   "id": "1db3e2d2",
   "metadata": {},
   "outputs": [
    {
     "data": {
      "text/plain": [
       "float"
      ]
     },
     "execution_count": 7,
     "metadata": {},
     "output_type": "execute_result"
    }
   ],
   "source": [
    "type(b)"
   ]
  },
  {
   "cell_type": "markdown",
   "id": "f4992d46",
   "metadata": {},
   "source": [
    "### Variável string"
   ]
  },
  {
   "cell_type": "code",
   "execution_count": 9,
   "id": "e028f1dd",
   "metadata": {},
   "outputs": [],
   "source": [
    "c = 'olá, meu nome é amanda'"
   ]
  },
  {
   "cell_type": "code",
   "execution_count": 10,
   "id": "699d7e29",
   "metadata": {},
   "outputs": [
    {
     "data": {
      "text/plain": [
       "'olá, meu nome é amanda'"
      ]
     },
     "execution_count": 10,
     "metadata": {},
     "output_type": "execute_result"
    }
   ],
   "source": [
    "c"
   ]
  },
  {
   "cell_type": "markdown",
   "id": "aac217a5",
   "metadata": {},
   "source": [
    "### Variável lógica/ booleana"
   ]
  },
  {
   "cell_type": "code",
   "execution_count": 12,
   "id": "29cb83c4",
   "metadata": {},
   "outputs": [],
   "source": [
    "d = 4>5"
   ]
  },
  {
   "cell_type": "code",
   "execution_count": 13,
   "id": "ba675f1e",
   "metadata": {},
   "outputs": [
    {
     "data": {
      "text/plain": [
       "False"
      ]
     },
     "execution_count": 13,
     "metadata": {},
     "output_type": "execute_result"
    }
   ],
   "source": [
    "d"
   ]
  },
  {
   "cell_type": "code",
   "execution_count": 14,
   "id": "77b2743a",
   "metadata": {},
   "outputs": [],
   "source": [
    "e = 5>4"
   ]
  },
  {
   "cell_type": "code",
   "execution_count": 15,
   "id": "7b9d0061",
   "metadata": {},
   "outputs": [
    {
     "data": {
      "text/plain": [
       "True"
      ]
     },
     "execution_count": 15,
     "metadata": {},
     "output_type": "execute_result"
    }
   ],
   "source": [
    "e"
   ]
  },
  {
   "cell_type": "markdown",
   "id": "e9bab04b",
   "metadata": {},
   "source": [
    "### Operadores aritméticos"
   ]
  },
  {
   "cell_type": "markdown",
   "id": "376fc821",
   "metadata": {},
   "source": [
    "#### soma +"
   ]
  },
  {
   "cell_type": "code",
   "execution_count": 12,
   "id": "846c0246",
   "metadata": {},
   "outputs": [],
   "source": [
    "soma = 12.5 + 27"
   ]
  },
  {
   "cell_type": "code",
   "execution_count": 13,
   "id": "dce2bf0f",
   "metadata": {},
   "outputs": [
    {
     "data": {
      "text/plain": [
       "39.5"
      ]
     },
     "execution_count": 13,
     "metadata": {},
     "output_type": "execute_result"
    }
   ],
   "source": [
    "soma"
   ]
  },
  {
   "cell_type": "markdown",
   "id": "09136a3f",
   "metadata": {},
   "source": [
    "#### subtração -"
   ]
  },
  {
   "cell_type": "code",
   "execution_count": 15,
   "id": "23dc6894",
   "metadata": {},
   "outputs": [],
   "source": [
    "sub = 217.8 - 27821.022"
   ]
  },
  {
   "cell_type": "code",
   "execution_count": 16,
   "id": "f7423b49",
   "metadata": {},
   "outputs": [
    {
     "data": {
      "text/plain": [
       "-27603.222"
      ]
     },
     "execution_count": 16,
     "metadata": {},
     "output_type": "execute_result"
    }
   ],
   "source": [
    "sub"
   ]
  },
  {
   "cell_type": "markdown",
   "id": "bc0a4b66",
   "metadata": {},
   "source": [
    "#### multiplicação *"
   ]
  },
  {
   "cell_type": "code",
   "execution_count": 18,
   "id": "7074d686",
   "metadata": {},
   "outputs": [],
   "source": [
    "mult = 4*5"
   ]
  },
  {
   "cell_type": "code",
   "execution_count": 19,
   "id": "b350e14d",
   "metadata": {},
   "outputs": [
    {
     "data": {
      "text/plain": [
       "20"
      ]
     },
     "execution_count": 19,
     "metadata": {},
     "output_type": "execute_result"
    }
   ],
   "source": [
    "mult"
   ]
  },
  {
   "cell_type": "markdown",
   "id": "72a91744",
   "metadata": {},
   "source": [
    "#### divisão / resposta float"
   ]
  },
  {
   "cell_type": "code",
   "execution_count": 21,
   "id": "a95cfc39",
   "metadata": {},
   "outputs": [],
   "source": [
    "div = 10/5"
   ]
  },
  {
   "cell_type": "code",
   "execution_count": 22,
   "id": "2f5cc8aa",
   "metadata": {},
   "outputs": [
    {
     "data": {
      "text/plain": [
       "2.0"
      ]
     },
     "execution_count": 22,
     "metadata": {},
     "output_type": "execute_result"
    }
   ],
   "source": [
    "div"
   ]
  },
  {
   "cell_type": "markdown",
   "id": "c840b85f",
   "metadata": {},
   "source": [
    "#### divisão inteira // apenas valor inteiro"
   ]
  },
  {
   "cell_type": "code",
   "execution_count": 24,
   "id": "14757930",
   "metadata": {},
   "outputs": [],
   "source": [
    "divinteira = 3//2"
   ]
  },
  {
   "cell_type": "code",
   "execution_count": 25,
   "id": "dceb1e02",
   "metadata": {},
   "outputs": [
    {
     "data": {
      "text/plain": [
       "1"
      ]
     },
     "execution_count": 25,
     "metadata": {},
     "output_type": "execute_result"
    }
   ],
   "source": [
    "divinteira"
   ]
  },
  {
   "cell_type": "markdown",
   "id": "11a013ab",
   "metadata": {},
   "source": [
    "#### exponenciação"
   ]
  },
  {
   "cell_type": "code",
   "execution_count": 27,
   "id": "08e94750",
   "metadata": {},
   "outputs": [],
   "source": [
    "exp = 5**5"
   ]
  },
  {
   "cell_type": "code",
   "execution_count": 28,
   "id": "ba94d48b",
   "metadata": {},
   "outputs": [
    {
     "data": {
      "text/plain": [
       "3125"
      ]
     },
     "execution_count": 28,
     "metadata": {},
     "output_type": "execute_result"
    }
   ],
   "source": [
    "exp"
   ]
  },
  {
   "cell_type": "code",
   "execution_count": 29,
   "id": "b3636884",
   "metadata": {},
   "outputs": [],
   "source": [
    "exp2 = 2*2"
   ]
  },
  {
   "cell_type": "code",
   "execution_count": 30,
   "id": "b1011d56",
   "metadata": {},
   "outputs": [
    {
     "data": {
      "text/plain": [
       "4"
      ]
     },
     "execution_count": 30,
     "metadata": {},
     "output_type": "execute_result"
    }
   ],
   "source": [
    "exp2"
   ]
  },
  {
   "cell_type": "markdown",
   "id": "ef15e172",
   "metadata": {},
   "source": [
    "#### resto da divisão (mod)"
   ]
  },
  {
   "cell_type": "code",
   "execution_count": 32,
   "id": "c4f2f620",
   "metadata": {},
   "outputs": [],
   "source": [
    "mod = 6%3"
   ]
  },
  {
   "cell_type": "code",
   "execution_count": 33,
   "id": "b7261f0f",
   "metadata": {},
   "outputs": [
    {
     "data": {
      "text/plain": [
       "0"
      ]
     },
     "execution_count": 33,
     "metadata": {},
     "output_type": "execute_result"
    }
   ],
   "source": [
    "mod"
   ]
  },
  {
   "cell_type": "code",
   "execution_count": 34,
   "id": "dec7796e",
   "metadata": {},
   "outputs": [],
   "source": [
    "mod2 = 5%2"
   ]
  },
  {
   "cell_type": "code",
   "execution_count": 36,
   "id": "a14aa5e2",
   "metadata": {},
   "outputs": [
    {
     "data": {
      "text/plain": [
       "1"
      ]
     },
     "execution_count": 36,
     "metadata": {},
     "output_type": "execute_result"
    }
   ],
   "source": [
    "mod2"
   ]
  },
  {
   "cell_type": "markdown",
   "id": "598ff53e",
   "metadata": {},
   "source": [
    "### Operadores relacionais"
   ]
  },
  {
   "cell_type": "markdown",
   "id": "9edb8a28",
   "metadata": {},
   "source": [
    "#### maior"
   ]
  },
  {
   "cell_type": "code",
   "execution_count": 2,
   "id": "63d89dac",
   "metadata": {},
   "outputs": [],
   "source": [
    "a = 5 >6"
   ]
  },
  {
   "cell_type": "code",
   "execution_count": 3,
   "id": "d9579790",
   "metadata": {},
   "outputs": [
    {
     "data": {
      "text/plain": [
       "False"
      ]
     },
     "execution_count": 3,
     "metadata": {},
     "output_type": "execute_result"
    }
   ],
   "source": [
    "a"
   ]
  },
  {
   "cell_type": "markdown",
   "id": "3be1c3ac",
   "metadata": {},
   "source": [
    "#### menor"
   ]
  },
  {
   "cell_type": "code",
   "execution_count": 4,
   "id": "8eb71d80",
   "metadata": {},
   "outputs": [],
   "source": [
    "b = 5 < 6"
   ]
  },
  {
   "cell_type": "code",
   "execution_count": 5,
   "id": "f1d07d39",
   "metadata": {},
   "outputs": [
    {
     "data": {
      "text/plain": [
       "True"
      ]
     },
     "execution_count": 5,
     "metadata": {},
     "output_type": "execute_result"
    }
   ],
   "source": [
    "b"
   ]
  },
  {
   "cell_type": "markdown",
   "id": "946e0dc9",
   "metadata": {},
   "source": [
    "#### igual"
   ]
  },
  {
   "cell_type": "code",
   "execution_count": 6,
   "id": "960da0fb",
   "metadata": {},
   "outputs": [
    {
     "data": {
      "text/plain": [
       "True"
      ]
     },
     "execution_count": 6,
     "metadata": {},
     "output_type": "execute_result"
    }
   ],
   "source": [
    "4 == 4"
   ]
  },
  {
   "cell_type": "code",
   "execution_count": 7,
   "id": "59fe5d11",
   "metadata": {},
   "outputs": [
    {
     "data": {
      "text/plain": [
       "False"
      ]
     },
     "execution_count": 7,
     "metadata": {},
     "output_type": "execute_result"
    }
   ],
   "source": [
    "a == b"
   ]
  },
  {
   "cell_type": "markdown",
   "id": "296ed9c0",
   "metadata": {},
   "source": [
    "#### diferente"
   ]
  },
  {
   "cell_type": "code",
   "execution_count": 8,
   "id": "ec852cc2",
   "metadata": {},
   "outputs": [
    {
     "data": {
      "text/plain": [
       "True"
      ]
     },
     "execution_count": 8,
     "metadata": {},
     "output_type": "execute_result"
    }
   ],
   "source": [
    "a != b"
   ]
  },
  {
   "cell_type": "markdown",
   "id": "6ef216b6",
   "metadata": {},
   "source": [
    "#### conectivos\n",
    " and, or e not"
   ]
  },
  {
   "cell_type": "code",
   "execution_count": 9,
   "id": "3e781036",
   "metadata": {},
   "outputs": [],
   "source": [
    "a = 4<5 and 4>3"
   ]
  },
  {
   "cell_type": "code",
   "execution_count": 10,
   "id": "d57d35ae",
   "metadata": {},
   "outputs": [
    {
     "data": {
      "text/plain": [
       "True"
      ]
     },
     "execution_count": 10,
     "metadata": {},
     "output_type": "execute_result"
    }
   ],
   "source": [
    "a"
   ]
  },
  {
   "cell_type": "code",
   "execution_count": 11,
   "id": "aa703e3c",
   "metadata": {},
   "outputs": [],
   "source": [
    "a = not 4<5"
   ]
  },
  {
   "cell_type": "code",
   "execution_count": 12,
   "id": "b1a82c6f",
   "metadata": {},
   "outputs": [
    {
     "data": {
      "text/plain": [
       "False"
      ]
     },
     "execution_count": 12,
     "metadata": {},
     "output_type": "execute_result"
    }
   ],
   "source": [
    "a"
   ]
  },
  {
   "cell_type": "code",
   "execution_count": 13,
   "id": "2bd3ca10",
   "metadata": {},
   "outputs": [],
   "source": [
    "a = 4<5\n"
   ]
  },
  {
   "cell_type": "code",
   "execution_count": 14,
   "id": "494c2369",
   "metadata": {},
   "outputs": [
    {
     "data": {
      "text/plain": [
       "True"
      ]
     },
     "execution_count": 14,
     "metadata": {},
     "output_type": "execute_result"
    }
   ],
   "source": [
    "a"
   ]
  },
  {
   "cell_type": "markdown",
   "id": "3281bb7a",
   "metadata": {},
   "source": [
    "### IF ESLSE ELIF "
   ]
  },
  {
   "cell_type": "code",
   "execution_count": 22,
   "id": "c2c5f707",
   "metadata": {},
   "outputs": [],
   "source": [
    "# Verificando se é possível tirar CNH"
   ]
  },
  {
   "cell_type": "code",
   "execution_count": 15,
   "id": "70498c89",
   "metadata": {},
   "outputs": [],
   "source": [
    "idade = 15"
   ]
  },
  {
   "cell_type": "code",
   "execution_count": 16,
   "id": "90711650",
   "metadata": {},
   "outputs": [
    {
     "name": "stdout",
     "output_type": "stream",
     "text": [
      "não pode tirar CNH\n"
     ]
    }
   ],
   "source": [
    "if (idade>=18): \n",
    "    print('Pode tirar CNH')\n",
    "else: print('não pode tirar CNH')"
   ]
  },
  {
   "cell_type": "code",
   "execution_count": 23,
   "id": "44ddd532",
   "metadata": {},
   "outputs": [],
   "source": [
    "# Quem é mais velho?"
   ]
  },
  {
   "cell_type": "code",
   "execution_count": 17,
   "id": "4af664d2",
   "metadata": {},
   "outputs": [],
   "source": [
    "idade_pedro = 23\n",
    "idade_joao = 19\n",
    "idade_maria = 20"
   ]
  },
  {
   "cell_type": "code",
   "execution_count": 18,
   "id": "be293776",
   "metadata": {},
   "outputs": [
    {
     "name": "stdout",
     "output_type": "stream",
     "text": [
      "Pedro é o mais velho de todos\n"
     ]
    }
   ],
   "source": [
    "if(idade_joao > idade_maria and idade_joao > idade_pedro):\n",
    "    print('Joao é o mais velho de todos')\n",
    "elif (idade_maria > idade_joao and idade_maria > idade_pedro):\n",
    "    print('Maria é a mais velha de todos')\n",
    "else: \n",
    "    print('Pedro é o mais velho de todos')"
   ]
  },
  {
   "cell_type": "code",
   "execution_count": 24,
   "id": "ff87d01a",
   "metadata": {},
   "outputs": [],
   "source": [
    "# Classificando idades entre criança, adolescente, adulto e idoso"
   ]
  },
  {
   "cell_type": "code",
   "execution_count": 25,
   "id": "96560150",
   "metadata": {},
   "outputs": [],
   "source": [
    "idade = 51"
   ]
  },
  {
   "cell_type": "code",
   "execution_count": 26,
   "id": "70efba7b",
   "metadata": {},
   "outputs": [
    {
     "name": "stdout",
     "output_type": "stream",
     "text": [
      "Adulto\n"
     ]
    }
   ],
   "source": [
    "if (idade <= 13):\n",
    "    print('Criança')\n",
    "elif (idade > 13 and idade < 18):\n",
    "    print('Adolescente')\n",
    "elif(idade >= 18 and idade <60):\n",
    "    print ('Adulto')\n",
    "else:\n",
    "    print('Idoso')"
   ]
  },
  {
   "cell_type": "markdown",
   "id": "229b4f69",
   "metadata": {},
   "source": [
    "### Indentação - hierarquia/pertencimento de um código"
   ]
  },
  {
   "cell_type": "code",
   "execution_count": 27,
   "id": "440cd489",
   "metadata": {},
   "outputs": [],
   "source": [
    "a = 5\n",
    "b = 4"
   ]
  },
  {
   "cell_type": "code",
   "execution_count": 28,
   "id": "df4ca801",
   "metadata": {},
   "outputs": [
    {
     "name": "stdout",
     "output_type": "stream",
     "text": [
      "a maior que b\n"
     ]
    }
   ],
   "source": [
    "if (a>b):\n",
    "    print('a maior que b')"
   ]
  },
  {
   "cell_type": "markdown",
   "id": "b6474bc4",
   "metadata": {},
   "source": [
    "### While - repete uma ação"
   ]
  },
  {
   "cell_type": "code",
   "execution_count": 29,
   "id": "3e2dcc20",
   "metadata": {},
   "outputs": [],
   "source": [
    "cont = 0"
   ]
  },
  {
   "cell_type": "code",
   "execution_count": 30,
   "id": "9eb9fae6",
   "metadata": {},
   "outputs": [
    {
     "name": "stdout",
     "output_type": "stream",
     "text": [
      "0\n",
      "1\n",
      "2\n",
      "3\n",
      "4\n",
      "5\n",
      "6\n",
      "7\n",
      "8\n",
      "9\n",
      "10\n"
     ]
    }
   ],
   "source": [
    "while (cont <= 10):\n",
    "    print(cont)\n",
    "    cont = cont+1"
   ]
  },
  {
   "cell_type": "code",
   "execution_count": 31,
   "id": "e88ff089",
   "metadata": {},
   "outputs": [
    {
     "name": "stdout",
     "output_type": "stream",
     "text": [
      "0\n",
      "fim\n",
      "1\n",
      "fim\n",
      "2\n",
      "fim\n",
      "3\n",
      "fim\n",
      "4\n",
      "fim\n",
      "5\n",
      "fim\n",
      "6\n",
      "fim\n",
      "7\n",
      "fim\n",
      "8\n",
      "fim\n",
      "9\n",
      "fim\n",
      "10\n",
      "fim\n"
     ]
    }
   ],
   "source": [
    "cont = 0\n",
    "while (cont <= 10):\n",
    "    print(cont)\n",
    "    cont = cont+1\n",
    "    print('fim')"
   ]
  },
  {
   "cell_type": "code",
   "execution_count": null,
   "id": "f250f850",
   "metadata": {},
   "outputs": [],
   "source": []
  }
 ],
 "metadata": {
  "kernelspec": {
   "display_name": "Python 3",
   "language": "python",
   "name": "python3"
  },
  "language_info": {
   "codemirror_mode": {
    "name": "ipython",
    "version": 3
   },
   "file_extension": ".py",
   "mimetype": "text/x-python",
   "name": "python",
   "nbconvert_exporter": "python",
   "pygments_lexer": "ipython3",
   "version": "3.8.8"
  }
 },
 "nbformat": 4,
 "nbformat_minor": 5
}
