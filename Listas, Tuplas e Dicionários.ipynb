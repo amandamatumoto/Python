{
 "cells": [
  {
   "cell_type": "markdown",
   "id": "978f7250",
   "metadata": {},
   "source": [
    "## Listas"
   ]
  },
  {
   "cell_type": "code",
   "execution_count": 16,
   "id": "86f92ec4",
   "metadata": {},
   "outputs": [],
   "source": [
    "frutas = ['maça', 'laranja', 'banana', 'abacaxi']"
   ]
  },
  {
   "cell_type": "code",
   "execution_count": 3,
   "id": "0314f896",
   "metadata": {},
   "outputs": [
    {
     "data": {
      "text/plain": [
       "['maça', 'laranja', 'banana', 'abacaxi']"
      ]
     },
     "execution_count": 3,
     "metadata": {},
     "output_type": "execute_result"
    }
   ],
   "source": [
    "frutas"
   ]
  },
  {
   "cell_type": "code",
   "execution_count": 4,
   "id": "73640491",
   "metadata": {},
   "outputs": [
    {
     "data": {
      "text/plain": [
       "list"
      ]
     },
     "execution_count": 4,
     "metadata": {},
     "output_type": "execute_result"
    }
   ],
   "source": [
    "type(frutas)"
   ]
  },
  {
   "cell_type": "markdown",
   "id": "39caa360",
   "metadata": {},
   "source": [
    "### Acessando elementos da lista"
   ]
  },
  {
   "cell_type": "code",
   "execution_count": 6,
   "id": "dca9dcef",
   "metadata": {},
   "outputs": [
    {
     "data": {
      "text/plain": [
       "'banana'"
      ]
     },
     "execution_count": 6,
     "metadata": {},
     "output_type": "execute_result"
    }
   ],
   "source": [
    "frutas[2]"
   ]
  },
  {
   "cell_type": "code",
   "execution_count": 7,
   "id": "7fbc8b99",
   "metadata": {},
   "outputs": [
    {
     "data": {
      "text/plain": [
       "'maça'"
      ]
     },
     "execution_count": 7,
     "metadata": {},
     "output_type": "execute_result"
    }
   ],
   "source": [
    "frutas[0]"
   ]
  },
  {
   "cell_type": "markdown",
   "id": "1399b032",
   "metadata": {},
   "source": [
    "### Índice positivo"
   ]
  },
  {
   "cell_type": "code",
   "execution_count": 8,
   "id": "8c9a348c",
   "metadata": {},
   "outputs": [
    {
     "data": {
      "text/plain": [
       "['laranja', 'banana']"
      ]
     },
     "execution_count": 8,
     "metadata": {},
     "output_type": "execute_result"
    }
   ],
   "source": [
    "frutas[1:3]"
   ]
  },
  {
   "cell_type": "code",
   "execution_count": 9,
   "id": "bf30444e",
   "metadata": {},
   "outputs": [
    {
     "data": {
      "text/plain": [
       "['maça', 'laranja', 'banana', 'abacaxi']"
      ]
     },
     "execution_count": 9,
     "metadata": {},
     "output_type": "execute_result"
    }
   ],
   "source": [
    "frutas[:]"
   ]
  },
  {
   "cell_type": "code",
   "execution_count": 10,
   "id": "847ac51f",
   "metadata": {},
   "outputs": [],
   "source": [
    "frutas = ['maça', 'laranja', 'banana', 'abacaxi', 'abacata', 'limão']"
   ]
  },
  {
   "cell_type": "markdown",
   "id": "d6687576",
   "metadata": {},
   "source": [
    "### O último valor chamado não entre na resposta"
   ]
  },
  {
   "cell_type": "code",
   "execution_count": 11,
   "id": "0648f4ed",
   "metadata": {},
   "outputs": [
    {
     "data": {
      "text/plain": [
       "['laranja', 'banana']"
      ]
     },
     "execution_count": 11,
     "metadata": {},
     "output_type": "execute_result"
    }
   ],
   "source": [
    "frutas[1:3]"
   ]
  },
  {
   "cell_type": "code",
   "execution_count": 12,
   "id": "3fcd7340",
   "metadata": {},
   "outputs": [
    {
     "data": {
      "text/plain": [
       "['laranja', 'banana', 'abacaxi']"
      ]
     },
     "execution_count": 12,
     "metadata": {},
     "output_type": "execute_result"
    }
   ],
   "source": [
    "frutas[1:4]"
   ]
  },
  {
   "cell_type": "code",
   "execution_count": 13,
   "id": "7a74cb44",
   "metadata": {},
   "outputs": [
    {
     "data": {
      "text/plain": [
       "['banana', 'abacaxi', 'abacata', 'limão']"
      ]
     },
     "execution_count": 13,
     "metadata": {},
     "output_type": "execute_result"
    }
   ],
   "source": [
    "frutas[2:]"
   ]
  },
  {
   "cell_type": "code",
   "execution_count": 14,
   "id": "69199ea3",
   "metadata": {},
   "outputs": [
    {
     "data": {
      "text/plain": [
       "['maça', 'laranja', 'banana', 'abacaxi', 'abacata']"
      ]
     },
     "execution_count": 14,
     "metadata": {},
     "output_type": "execute_result"
    }
   ],
   "source": [
    "frutas[:5]"
   ]
  },
  {
   "cell_type": "markdown",
   "id": "6ec76606",
   "metadata": {},
   "source": [
    "### Índice negativo"
   ]
  },
  {
   "cell_type": "code",
   "execution_count": 15,
   "id": "ab04c303",
   "metadata": {},
   "outputs": [
    {
     "data": {
      "text/plain": [
       "'abacaxi'"
      ]
     },
     "execution_count": 15,
     "metadata": {},
     "output_type": "execute_result"
    }
   ],
   "source": [
    "frutas[-3]  "
   ]
  },
  {
   "cell_type": "code",
   "execution_count": 17,
   "id": "eff6a3f5",
   "metadata": {},
   "outputs": [],
   "source": [
    "lista = ['sim', 'não', 'sim', 'não','sim', 'não','sim', 'não']"
   ]
  },
  {
   "cell_type": "code",
   "execution_count": 18,
   "id": "e199ea7b",
   "metadata": {},
   "outputs": [
    {
     "data": {
      "text/plain": [
       "['sim', 'não', 'sim', 'não', 'sim', 'não', 'sim']"
      ]
     },
     "execution_count": 18,
     "metadata": {},
     "output_type": "execute_result"
    }
   ],
   "source": [
    "lista[0:7]"
   ]
  },
  {
   "cell_type": "code",
   "execution_count": 19,
   "id": "7ed4e7f8",
   "metadata": {},
   "outputs": [
    {
     "data": {
      "text/plain": [
       "['sim', 'sim', 'sim', 'sim']"
      ]
     },
     "execution_count": 19,
     "metadata": {},
     "output_type": "execute_result"
    }
   ],
   "source": [
    "lista[0:7:2]"
   ]
  },
  {
   "cell_type": "code",
   "execution_count": 20,
   "id": "681626d2",
   "metadata": {},
   "outputs": [
    {
     "data": {
      "text/plain": [
       "['sim', 'sim', 'sim', 'sim']"
      ]
     },
     "execution_count": 20,
     "metadata": {},
     "output_type": "execute_result"
    }
   ],
   "source": [
    "lista[::2]"
   ]
  },
  {
   "cell_type": "markdown",
   "id": "3abf03c8",
   "metadata": {},
   "source": [
    "### Testando se um valor está na lista"
   ]
  },
  {
   "cell_type": "code",
   "execution_count": 22,
   "id": "17142899",
   "metadata": {},
   "outputs": [],
   "source": [
    "frutas = ['maça', 'laranja', 'banana', 'abacaxi', 'abacata', 'limão']"
   ]
  },
  {
   "cell_type": "code",
   "execution_count": 23,
   "id": "16074b70",
   "metadata": {},
   "outputs": [
    {
     "data": {
      "text/plain": [
       "True"
      ]
     },
     "execution_count": 23,
     "metadata": {},
     "output_type": "execute_result"
    }
   ],
   "source": [
    "'maça' in frutas"
   ]
  },
  {
   "cell_type": "code",
   "execution_count": 24,
   "id": "689b2709",
   "metadata": {},
   "outputs": [
    {
     "data": {
      "text/plain": [
       "False"
      ]
     },
     "execution_count": 24,
     "metadata": {},
     "output_type": "execute_result"
    }
   ],
   "source": [
    "'melancia' in frutas"
   ]
  },
  {
   "cell_type": "markdown",
   "id": "4403ddf0",
   "metadata": {},
   "source": [
    "### Concatenando strings / juntando listas"
   ]
  },
  {
   "cell_type": "code",
   "execution_count": 27,
   "id": "a9bc42fc",
   "metadata": {},
   "outputs": [],
   "source": [
    "frutas2 = ['melancia', 'morango', 'manga']"
   ]
  },
  {
   "cell_type": "code",
   "execution_count": 28,
   "id": "00e80577",
   "metadata": {},
   "outputs": [],
   "source": [
    "frutas3 = frutas + frutas2"
   ]
  },
  {
   "cell_type": "code",
   "execution_count": 29,
   "id": "22aaf908",
   "metadata": {},
   "outputs": [
    {
     "data": {
      "text/plain": [
       "['maça',\n",
       " 'laranja',\n",
       " 'banana',\n",
       " 'abacaxi',\n",
       " 'abacata',\n",
       " 'limão',\n",
       " 'melancia',\n",
       " 'morango',\n",
       " 'manga']"
      ]
     },
     "execution_count": 29,
     "metadata": {},
     "output_type": "execute_result"
    }
   ],
   "source": [
    "frutas3"
   ]
  },
  {
   "cell_type": "code",
   "execution_count": 30,
   "id": "e124881b",
   "metadata": {},
   "outputs": [],
   "source": [
    "lista = [1,2,3,'alvo',20]"
   ]
  },
  {
   "cell_type": "code",
   "execution_count": 31,
   "id": "57ec1f97",
   "metadata": {},
   "outputs": [
    {
     "data": {
      "text/plain": [
       "'alvo'"
      ]
     },
     "execution_count": 31,
     "metadata": {},
     "output_type": "execute_result"
    }
   ],
   "source": [
    "lista[3]"
   ]
  },
  {
   "cell_type": "code",
   "execution_count": 32,
   "id": "7bbc9f02",
   "metadata": {},
   "outputs": [],
   "source": [
    "lista = [1,2,3,[10,'alvo',15],18,20]"
   ]
  },
  {
   "cell_type": "code",
   "execution_count": 33,
   "id": "f7df510d",
   "metadata": {},
   "outputs": [
    {
     "data": {
      "text/plain": [
       "[10, 'alvo', 15]"
      ]
     },
     "execution_count": 33,
     "metadata": {},
     "output_type": "execute_result"
    }
   ],
   "source": [
    "lista[3]"
   ]
  },
  {
   "cell_type": "code",
   "execution_count": 34,
   "id": "19df3907",
   "metadata": {},
   "outputs": [
    {
     "data": {
      "text/plain": [
       "'alvo'"
      ]
     },
     "execution_count": 34,
     "metadata": {},
     "output_type": "execute_result"
    }
   ],
   "source": [
    "lista[3][1]"
   ]
  },
  {
   "cell_type": "code",
   "execution_count": 35,
   "id": "781611e0",
   "metadata": {},
   "outputs": [],
   "source": [
    "lista = [1,2,3,[10,2,[2,4,'alvo'],15],18,20]"
   ]
  },
  {
   "cell_type": "code",
   "execution_count": 36,
   "id": "1505acfe",
   "metadata": {},
   "outputs": [
    {
     "data": {
      "text/plain": [
       "[10, 2, [2, 4, 'alvo'], 15]"
      ]
     },
     "execution_count": 36,
     "metadata": {},
     "output_type": "execute_result"
    }
   ],
   "source": [
    "lista[3]"
   ]
  },
  {
   "cell_type": "code",
   "execution_count": 37,
   "id": "d1d7b2dd",
   "metadata": {},
   "outputs": [
    {
     "data": {
      "text/plain": [
       "[2, 4, 'alvo']"
      ]
     },
     "execution_count": 37,
     "metadata": {},
     "output_type": "execute_result"
    }
   ],
   "source": [
    "lista[3][2]"
   ]
  },
  {
   "cell_type": "code",
   "execution_count": 38,
   "id": "8cf53938",
   "metadata": {},
   "outputs": [
    {
     "data": {
      "text/plain": [
       "'alvo'"
      ]
     },
     "execution_count": 38,
     "metadata": {},
     "output_type": "execute_result"
    }
   ],
   "source": [
    "lista[3][2][2]"
   ]
  },
  {
   "cell_type": "markdown",
   "id": "d4f9095c",
   "metadata": {},
   "source": [
    "### Como alterar valores de uma lista"
   ]
  },
  {
   "cell_type": "code",
   "execution_count": 40,
   "id": "4aabc7a0",
   "metadata": {},
   "outputs": [],
   "source": [
    "lista = [2,4,6,8]"
   ]
  },
  {
   "cell_type": "code",
   "execution_count": 41,
   "id": "3bf5a912",
   "metadata": {},
   "outputs": [],
   "source": [
    "lista[1]=5"
   ]
  },
  {
   "cell_type": "code",
   "execution_count": 42,
   "id": "986ca027",
   "metadata": {},
   "outputs": [
    {
     "data": {
      "text/plain": [
       "[2, 5, 6, 8]"
      ]
     },
     "execution_count": 42,
     "metadata": {},
     "output_type": "execute_result"
    }
   ],
   "source": [
    "lista"
   ]
  },
  {
   "cell_type": "code",
   "execution_count": 43,
   "id": "4d0b03b1",
   "metadata": {},
   "outputs": [],
   "source": [
    "lista[:] = ['mudei','mudei','mudei']"
   ]
  },
  {
   "cell_type": "code",
   "execution_count": 44,
   "id": "bd672f42",
   "metadata": {},
   "outputs": [
    {
     "data": {
      "text/plain": [
       "['mudei', 'mudei', 'mudei']"
      ]
     },
     "execution_count": 44,
     "metadata": {},
     "output_type": "execute_result"
    }
   ],
   "source": [
    "lista"
   ]
  },
  {
   "cell_type": "markdown",
   "id": "208c42e7",
   "metadata": {},
   "source": [
    "### Atribuir e excluir valores"
   ]
  },
  {
   "cell_type": "code",
   "execution_count": 46,
   "id": "a155334d",
   "metadata": {},
   "outputs": [],
   "source": [
    "lista = [2,4,6,8]"
   ]
  },
  {
   "cell_type": "code",
   "execution_count": 47,
   "id": "07bf81ff",
   "metadata": {},
   "outputs": [],
   "source": [
    "lista.append(10)"
   ]
  },
  {
   "cell_type": "code",
   "execution_count": 48,
   "id": "42d33486",
   "metadata": {},
   "outputs": [
    {
     "data": {
      "text/plain": [
       "[2, 4, 6, 8, 10]"
      ]
     },
     "execution_count": 48,
     "metadata": {},
     "output_type": "execute_result"
    }
   ],
   "source": [
    "lista"
   ]
  },
  {
   "cell_type": "code",
   "execution_count": 49,
   "id": "dc10e57a",
   "metadata": {},
   "outputs": [],
   "source": [
    "del(lista[2])"
   ]
  },
  {
   "cell_type": "code",
   "execution_count": 50,
   "id": "ab8c58ef",
   "metadata": {},
   "outputs": [
    {
     "data": {
      "text/plain": [
       "[2, 4, 8, 10]"
      ]
     },
     "execution_count": 50,
     "metadata": {},
     "output_type": "execute_result"
    }
   ],
   "source": [
    "lista"
   ]
  },
  {
   "cell_type": "markdown",
   "id": "d5bda9f6",
   "metadata": {},
   "source": [
    "## Tuplas - listas imutáveis"
   ]
  },
  {
   "cell_type": "code",
   "execution_count": 52,
   "id": "dc4a25c7",
   "metadata": {},
   "outputs": [],
   "source": [
    "lista = [2,4,6,8]"
   ]
  },
  {
   "cell_type": "code",
   "execution_count": 53,
   "id": "8e783d4a",
   "metadata": {},
   "outputs": [],
   "source": [
    "tupla = (1,2,3,4)"
   ]
  },
  {
   "cell_type": "code",
   "execution_count": 54,
   "id": "2e798f26",
   "metadata": {},
   "outputs": [],
   "source": [
    "del(lista[2])"
   ]
  },
  {
   "cell_type": "code",
   "execution_count": 55,
   "id": "d335e011",
   "metadata": {},
   "outputs": [
    {
     "data": {
      "text/plain": [
       "[2, 4, 8]"
      ]
     },
     "execution_count": 55,
     "metadata": {},
     "output_type": "execute_result"
    }
   ],
   "source": [
    "lista"
   ]
  },
  {
   "cell_type": "code",
   "execution_count": 56,
   "id": "1233bb93",
   "metadata": {},
   "outputs": [
    {
     "ename": "AttributeError",
     "evalue": "'tuple' object has no attribute 'append'",
     "output_type": "error",
     "traceback": [
      "\u001b[1;31m---------------------------------------------------------------------------\u001b[0m",
      "\u001b[1;31mAttributeError\u001b[0m                            Traceback (most recent call last)",
      "\u001b[1;32m<ipython-input-56-81ce3824746a>\u001b[0m in \u001b[0;36m<module>\u001b[1;34m\u001b[0m\n\u001b[1;32m----> 1\u001b[1;33m \u001b[0mtupla\u001b[0m\u001b[1;33m.\u001b[0m\u001b[0mappend\u001b[0m\u001b[1;33m(\u001b[0m\u001b[1;36m100\u001b[0m\u001b[1;33m)\u001b[0m\u001b[1;33m\u001b[0m\u001b[1;33m\u001b[0m\u001b[0m\n\u001b[0m",
      "\u001b[1;31mAttributeError\u001b[0m: 'tuple' object has no attribute 'append'"
     ]
    }
   ],
   "source": [
    "tupla.append(100)"
   ]
  },
  {
   "cell_type": "code",
   "execution_count": 57,
   "id": "563d638c",
   "metadata": {},
   "outputs": [
    {
     "data": {
      "text/plain": [
       "(1, 2, 3, 4)"
      ]
     },
     "execution_count": 57,
     "metadata": {},
     "output_type": "execute_result"
    }
   ],
   "source": [
    "tupla"
   ]
  },
  {
   "cell_type": "code",
   "execution_count": 58,
   "id": "e4fb43cc",
   "metadata": {},
   "outputs": [
    {
     "data": {
      "text/plain": [
       "3"
      ]
     },
     "execution_count": 58,
     "metadata": {},
     "output_type": "execute_result"
    }
   ],
   "source": [
    "tupla[2]"
   ]
  },
  {
   "cell_type": "code",
   "execution_count": 59,
   "id": "21c7e413",
   "metadata": {},
   "outputs": [
    {
     "data": {
      "text/plain": [
       "(1, 2, 3, 4)"
      ]
     },
     "execution_count": 59,
     "metadata": {},
     "output_type": "execute_result"
    }
   ],
   "source": [
    "tupla[:]"
   ]
  },
  {
   "cell_type": "code",
   "execution_count": 60,
   "id": "fa42de11",
   "metadata": {},
   "outputs": [
    {
     "data": {
      "text/plain": [
       "(1, 2)"
      ]
     },
     "execution_count": 60,
     "metadata": {},
     "output_type": "execute_result"
    }
   ],
   "source": [
    "tupla[:2]"
   ]
  },
  {
   "cell_type": "markdown",
   "id": "4b6d7354",
   "metadata": {},
   "source": [
    "## Dicionários"
   ]
  },
  {
   "cell_type": "code",
   "execution_count": 1,
   "id": "287e5907",
   "metadata": {},
   "outputs": [],
   "source": [
    "cadastro = {'nome':'João','idade':30, 'sexo':'Masculino'}"
   ]
  },
  {
   "cell_type": "code",
   "execution_count": 2,
   "id": "c4deab48",
   "metadata": {},
   "outputs": [
    {
     "data": {
      "text/plain": [
       "dict"
      ]
     },
     "execution_count": 2,
     "metadata": {},
     "output_type": "execute_result"
    }
   ],
   "source": [
    "type(cadastro)"
   ]
  },
  {
   "cell_type": "code",
   "execution_count": 3,
   "id": "6789dbd2",
   "metadata": {},
   "outputs": [
    {
     "data": {
      "text/plain": [
       "{'nome': 'João', 'idade': 30, 'sexo': 'Masculino'}"
      ]
     },
     "execution_count": 3,
     "metadata": {},
     "output_type": "execute_result"
    }
   ],
   "source": [
    "cadastro"
   ]
  },
  {
   "cell_type": "code",
   "execution_count": 4,
   "id": "7e698f05",
   "metadata": {},
   "outputs": [
    {
     "data": {
      "text/plain": [
       "'João'"
      ]
     },
     "execution_count": 4,
     "metadata": {},
     "output_type": "execute_result"
    }
   ],
   "source": [
    "cadastro['nome']"
   ]
  },
  {
   "cell_type": "markdown",
   "id": "1c30c6d0",
   "metadata": {},
   "source": [
    "### Métodos do dicionário"
   ]
  },
  {
   "cell_type": "code",
   "execution_count": 5,
   "id": "b53619d2",
   "metadata": {},
   "outputs": [
    {
     "data": {
      "text/plain": [
       "False"
      ]
     },
     "execution_count": 5,
     "metadata": {},
     "output_type": "execute_result"
    }
   ],
   "source": [
    "'João' in cadastro"
   ]
  },
  {
   "cell_type": "code",
   "execution_count": 6,
   "id": "b45635e2",
   "metadata": {},
   "outputs": [
    {
     "data": {
      "text/plain": [
       "True"
      ]
     },
     "execution_count": 6,
     "metadata": {},
     "output_type": "execute_result"
    }
   ],
   "source": [
    "'João' in cadastro.values()"
   ]
  },
  {
   "cell_type": "code",
   "execution_count": 7,
   "id": "c115cf7b",
   "metadata": {},
   "outputs": [
    {
     "data": {
      "text/plain": [
       "True"
      ]
     },
     "execution_count": 7,
     "metadata": {},
     "output_type": "execute_result"
    }
   ],
   "source": [
    "'nome' in cadastro"
   ]
  },
  {
   "cell_type": "code",
   "execution_count": 8,
   "id": "99457a11",
   "metadata": {},
   "outputs": [
    {
     "data": {
      "text/plain": [
       "True"
      ]
     },
     "execution_count": 8,
     "metadata": {},
     "output_type": "execute_result"
    }
   ],
   "source": [
    "'nome' in cadastro.keys()"
   ]
  },
  {
   "cell_type": "code",
   "execution_count": 9,
   "id": "6d399e27",
   "metadata": {},
   "outputs": [
    {
     "data": {
      "text/plain": [
       "True"
      ]
     },
     "execution_count": 9,
     "metadata": {},
     "output_type": "execute_result"
    }
   ],
   "source": [
    "('nome','João') in cadastro.items()"
   ]
  },
  {
   "cell_type": "markdown",
   "id": "0bb76873",
   "metadata": {},
   "source": [
    "### Alterando valores do dicionário"
   ]
  },
  {
   "cell_type": "code",
   "execution_count": 10,
   "id": "aeb49fe6",
   "metadata": {},
   "outputs": [],
   "source": [
    "cadastro['nome'] = 'Pedro'"
   ]
  },
  {
   "cell_type": "code",
   "execution_count": 11,
   "id": "cab1656d",
   "metadata": {},
   "outputs": [
    {
     "data": {
      "text/plain": [
       "{'nome': 'Pedro', 'idade': 30, 'sexo': 'Masculino'}"
      ]
     },
     "execution_count": 11,
     "metadata": {},
     "output_type": "execute_result"
    }
   ],
   "source": [
    "cadastro"
   ]
  },
  {
   "cell_type": "markdown",
   "id": "6bfa6275",
   "metadata": {},
   "source": [
    "### Adicionar valores"
   ]
  },
  {
   "cell_type": "code",
   "execution_count": 12,
   "id": "848cf35b",
   "metadata": {},
   "outputs": [],
   "source": [
    "cadastro['altura'] = 1.75"
   ]
  },
  {
   "cell_type": "code",
   "execution_count": 13,
   "id": "0c2d03da",
   "metadata": {},
   "outputs": [
    {
     "data": {
      "text/plain": [
       "{'nome': 'Pedro', 'idade': 30, 'sexo': 'Masculino', 'altura': 1.75}"
      ]
     },
     "execution_count": 13,
     "metadata": {},
     "output_type": "execute_result"
    }
   ],
   "source": [
    "cadastro"
   ]
  },
  {
   "cell_type": "markdown",
   "id": "d1134dc0",
   "metadata": {},
   "source": [
    "### Remover valores"
   ]
  },
  {
   "cell_type": "code",
   "execution_count": 14,
   "id": "e8ce3d6d",
   "metadata": {},
   "outputs": [],
   "source": [
    "del(cadastro['sexo'])"
   ]
  },
  {
   "cell_type": "code",
   "execution_count": 15,
   "id": "999b7f8e",
   "metadata": {},
   "outputs": [
    {
     "data": {
      "text/plain": [
       "{'nome': 'Pedro', 'idade': 30, 'altura': 1.75}"
      ]
     },
     "execution_count": 15,
     "metadata": {},
     "output_type": "execute_result"
    }
   ],
   "source": [
    "cadastro"
   ]
  },
  {
   "cell_type": "markdown",
   "id": "2ad69afd",
   "metadata": {},
   "source": [
    "### Copiar o dicionário"
   ]
  },
  {
   "cell_type": "code",
   "execution_count": 16,
   "id": "538b591b",
   "metadata": {},
   "outputs": [
    {
     "data": {
      "text/plain": [
       "{'nome': 'Pedro', 'idade': 30, 'altura': 1.75}"
      ]
     },
     "execution_count": 16,
     "metadata": {},
     "output_type": "execute_result"
    }
   ],
   "source": [
    "cadastro"
   ]
  },
  {
   "cell_type": "code",
   "execution_count": 17,
   "id": "c16ee9bf",
   "metadata": {},
   "outputs": [],
   "source": [
    "cadastro_igual = cadastro"
   ]
  },
  {
   "cell_type": "code",
   "execution_count": 18,
   "id": "4b81bbe9",
   "metadata": {},
   "outputs": [],
   "source": [
    "copia = cadastro.copy()"
   ]
  },
  {
   "cell_type": "markdown",
   "id": "470178fa",
   "metadata": {},
   "source": [
    "#### Se mudar o primeiro dicionário, o dicionário igual também muda"
   ]
  },
  {
   "cell_type": "code",
   "execution_count": 19,
   "id": "2ec1293e",
   "metadata": {},
   "outputs": [
    {
     "data": {
      "text/plain": [
       "{'nome': 'Pedro', 'idade': 30, 'altura': 1.75}"
      ]
     },
     "execution_count": 19,
     "metadata": {},
     "output_type": "execute_result"
    }
   ],
   "source": [
    "cadastro_igual"
   ]
  },
  {
   "cell_type": "code",
   "execution_count": 20,
   "id": "054ac942",
   "metadata": {},
   "outputs": [
    {
     "data": {
      "text/plain": [
       "{'nome': 'Pedro', 'idade': 30, 'altura': 1.75}"
      ]
     },
     "execution_count": 20,
     "metadata": {},
     "output_type": "execute_result"
    }
   ],
   "source": [
    "copia"
   ]
  },
  {
   "cell_type": "code",
   "execution_count": 21,
   "id": "9aa9ff1f",
   "metadata": {},
   "outputs": [],
   "source": [
    "cadastro['idade'] = 80"
   ]
  },
  {
   "cell_type": "code",
   "execution_count": 22,
   "id": "a755d50c",
   "metadata": {},
   "outputs": [
    {
     "data": {
      "text/plain": [
       "{'nome': 'Pedro', 'idade': 80, 'altura': 1.75}"
      ]
     },
     "execution_count": 22,
     "metadata": {},
     "output_type": "execute_result"
    }
   ],
   "source": [
    "cadastro_igual"
   ]
  },
  {
   "cell_type": "code",
   "execution_count": 23,
   "id": "40e99399",
   "metadata": {},
   "outputs": [
    {
     "data": {
      "text/plain": [
       "{'nome': 'Pedro', 'idade': 30, 'altura': 1.75}"
      ]
     },
     "execution_count": 23,
     "metadata": {},
     "output_type": "execute_result"
    }
   ],
   "source": [
    "copia"
   ]
  },
  {
   "cell_type": "markdown",
   "id": "e22e8716",
   "metadata": {},
   "source": [
    "### Juntando dicionários"
   ]
  },
  {
   "cell_type": "code",
   "execution_count": 24,
   "id": "e98da410",
   "metadata": {},
   "outputs": [],
   "source": [
    "meus_contatos = {'Tiago':'1111','Felipe':'2222','Carolina':'3333'}"
   ]
  },
  {
   "cell_type": "code",
   "execution_count": 25,
   "id": "9ff25f32",
   "metadata": {},
   "outputs": [],
   "source": [
    "seus_contatos = {'Rafaela':666,'Luiza':'666788', 'Bia':'387272'}"
   ]
  },
  {
   "cell_type": "code",
   "execution_count": 26,
   "id": "08295816",
   "metadata": {},
   "outputs": [],
   "source": [
    "meus_contatos.update(seus_contatos)"
   ]
  },
  {
   "cell_type": "code",
   "execution_count": 27,
   "id": "2e579512",
   "metadata": {},
   "outputs": [
    {
     "data": {
      "text/plain": [
       "{'Tiago': '1111',\n",
       " 'Felipe': '2222',\n",
       " 'Carolina': '3333',\n",
       " 'Rafaela': 666,\n",
       " 'Luiza': '666788',\n",
       " 'Bia': '387272'}"
      ]
     },
     "execution_count": 27,
     "metadata": {},
     "output_type": "execute_result"
    }
   ],
   "source": [
    "meus_contatos"
   ]
  },
  {
   "cell_type": "code",
   "execution_count": null,
   "id": "5d38bbd6",
   "metadata": {},
   "outputs": [],
   "source": []
  }
 ],
 "metadata": {
  "kernelspec": {
   "display_name": "Python 3",
   "language": "python",
   "name": "python3"
  },
  "language_info": {
   "codemirror_mode": {
    "name": "ipython",
    "version": 3
   },
   "file_extension": ".py",
   "mimetype": "text/x-python",
   "name": "python",
   "nbconvert_exporter": "python",
   "pygments_lexer": "ipython3",
   "version": "3.8.8"
  }
 },
 "nbformat": 4,
 "nbformat_minor": 5
}
