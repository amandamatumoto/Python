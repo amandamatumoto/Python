{
 "cells": [
  {
   "cell_type": "markdown",
   "metadata": {},
   "source": [
    "# Automação de Sistemas e Processos com Python\n",
    "\n",
    "### Desafio:\n",
    "\n",
    "Todos os dias, o nosso sistema atualiza as vendas do dia anterior.\n",
    "O seu trabalho diário, como analista, é enviar um e-mail para a diretoria, assim que começar a trabalhar, com o faturamento e a quantidade de produtos vendidos no dia anterior\n",
    "\n",
    "E-mail da diretoria: seugmail+diretoria@gmail.com<br>\n",
    "Local onde o sistema disponibiliza as vendas do dia anterior: https://drive.google.com/drive/folders/149xknr9JvrlEnhNWO49zPcw0PW5icxga?usp=sharing\n",
    "\n",
    "Para resolver isso, vamos usar o pyautogui, uma biblioteca de automação de comandos do mouse e do teclado"
   ]
  },
  {
   "cell_type": "code",
   "execution_count": 61,
   "metadata": {},
   "outputs": [],
   "source": [
    "import pyautogui\n",
    "\n",
    "pyautogui.pause = 1"
   ]
  },
  {
   "cell_type": "code",
   "execution_count": 62,
   "metadata": {},
   "outputs": [],
   "source": [
    "import pyperclip\n",
    "# Permite copiar um texto dentro do código\n",
    "import time"
   ]
  },
  {
   "cell_type": "code",
   "execution_count": 63,
   "metadata": {},
   "outputs": [],
   "source": [
    "# Passo 1 - Entrar no sistema (entrar no link dado acima)\n",
    "pyautogui.hotkey('ctrl', 't')\n",
    "link = \"https://drive.google.com/drive/folders/149xknr9JvrlEnhNWO49zPcw0PW5icxga?usp=sharing\"\n",
    "pyperclip.copy(link)\n",
    "pyautogui.hotkey('ctrl', 'v')\n",
    "pyautogui.press('enter')\n",
    "\n",
    "# Passo 2 - Navegar no sistema (entrar na pasta Exportar e baixar o arquivo de vendas)\n",
    "time.sleep(5)\n",
    "pyautogui.click(x=367, y=295, clicks = 2)\n",
    "time.sleep(5)\n",
    "pyautogui.click(x=487, y=280)\n",
    "pyautogui.click(x=1163, y=197)\n",
    "time.sleep(5)\n",
    "pyautogui.click(x=1077, y=594)"
   ]
  },
  {
   "cell_type": "markdown",
   "metadata": {},
   "source": [
    "### Vamos agora ler o arquivo baixado para pegar os indicadores\n",
    "\n",
    "- Faturamento\n",
    "- Quantidade de Produtos"
   ]
  },
  {
   "cell_type": "code",
   "execution_count": 64,
   "metadata": {},
   "outputs": [
    {
     "name": "stdout",
     "output_type": "stream",
     "text": [
      "2917311\n",
      "15227\n"
     ]
    }
   ],
   "source": [
    "# Passo 3 - Calcular o faturamento e quantidade de produtos vendidos\n",
    "import pandas as pd\n",
    "tabela = pd.read_excel(r\"C:\\Users\\amand\\Downloads\\Vendas - Dez.xlsx\")\n",
    "tabela.head(5)\n",
    "faturamento = tabela[\"Valor Final\"].sum()\n",
    "quantidade = tabela[\"Quantidade\"].sum()\n",
    "print(faturamento)\n",
    "print(quantidade)"
   ]
  },
  {
   "cell_type": "markdown",
   "metadata": {},
   "source": [
    "### Vamos agora enviar um e-mail pelo gmail"
   ]
  },
  {
   "cell_type": "code",
   "execution_count": 67,
   "metadata": {},
   "outputs": [],
   "source": [
    "# Passo 4 - Enviar o email para a diretoria\n",
    "# Entrar no email\n",
    "pyautogui.hotkey('ctrl', 't')\n",
    "link = \"https://mail.google.com\"\n",
    "pyperclip.copy(link)\n",
    "pyautogui.hotkey('ctrl', 'v')\n",
    "pyautogui.press('enter')\n",
    "time.sleep(5)\n",
    "\n",
    "# Iniciar uma nova mensagem\n",
    "pyautogui.click(x=96, y=202)\n",
    "time.sleep(5)\n",
    "\n",
    "# Escrever para o destinatário\n",
    "pyautogui.write(\"amanda.matumoto@gmail.com\")\n",
    "pyautogui.press(\"tab\")\n",
    "time.sleep(5)\n",
    "pyautogui.press(\"tab\")\n",
    "\n",
    "# Escrever o assunto\n",
    "assunto = \"Relatório de Vendas\"\n",
    "pyperclip.copy(assunto)\n",
    "pyautogui.hotkey(\"ctrl\", \"v\")\n",
    "pyautogui.press(\"tab\")\n",
    "time.sleep(5)\n",
    "\n",
    "\n",
    "\n",
    "# Escrever o corpo do email\n",
    "texto = f\"\"\"\n",
    "Prezados, bom dia\n",
    "\n",
    "O faturamento foi de R${faturamento:,.2f}.\n",
    "A quantidade foi de {quantidade:,} itens.\n",
    "\n",
    "Abs,\n",
    "\n",
    "Amanda\n",
    "\"\"\"\n",
    "pyautogui.write(texto)\n",
    "time.sleep(5)\n",
    "\n",
    "# Enviar email\n",
    "pyautogui.hotkey(\"ctrl\",\"enter\")"
   ]
  },
  {
   "cell_type": "markdown",
   "metadata": {},
   "source": [
    "#### Use esse código para descobrir qual a posição de um item que queira clicar\n",
    "\n",
    "- Lembre-se: a posição na sua tela é diferente da posição na minha tela"
   ]
  },
  {
   "cell_type": "code",
   "execution_count": 66,
   "metadata": {},
   "outputs": [
    {
     "data": {
      "text/plain": [
       "Point(x=96, y=202)"
      ]
     },
     "execution_count": 66,
     "metadata": {},
     "output_type": "execute_result"
    }
   ],
   "source": [
    "import time\n",
    "time.sleep(5)\n",
    "pyautogui.position()"
   ]
  }
 ],
 "metadata": {
  "kernelspec": {
   "display_name": "Python 3",
   "language": "python",
   "name": "python3"
  },
  "language_info": {
   "codemirror_mode": {
    "name": "ipython",
    "version": 3
   },
   "file_extension": ".py",
   "mimetype": "text/x-python",
   "name": "python",
   "nbconvert_exporter": "python",
   "pygments_lexer": "ipython3",
   "version": "3.8.8"
  }
 },
 "nbformat": 4,
 "nbformat_minor": 4
}
