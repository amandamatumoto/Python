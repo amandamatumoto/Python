{
 "cells": [
  {
   "cell_type": "code",
   "execution_count": 1,
   "id": "a9522bcb",
   "metadata": {},
   "outputs": [],
   "source": [
    "import pandas as pd\n",
    "import numpy as np"
   ]
  },
  {
   "cell_type": "markdown",
   "id": "4c50dffc",
   "metadata": {},
   "source": [
    "# DataFrame MultiIndex"
   ]
  },
  {
   "cell_type": "code",
   "execution_count": 2,
   "id": "af5f5741",
   "metadata": {},
   "outputs": [],
   "source": [
    "lista = [['BRASIL','BRASIL','BRASIL','ARGENTINA','ARGENTINA','ARGENTINA'],[2017,2018,2019,2017,2018,2019]]"
   ]
  },
  {
   "cell_type": "code",
   "execution_count": 16,
   "id": "00d7f5d0",
   "metadata": {},
   "outputs": [],
   "source": [
    "tuplas = zip(*lista)"
   ]
  },
  {
   "cell_type": "code",
   "execution_count": 17,
   "id": "45aa58b7",
   "metadata": {},
   "outputs": [
    {
     "data": {
      "text/plain": [
       "<zip at 0x1f0964e3a80>"
      ]
     },
     "execution_count": 17,
     "metadata": {},
     "output_type": "execute_result"
    }
   ],
   "source": [
    "tuplas"
   ]
  },
  {
   "cell_type": "code",
   "execution_count": 18,
   "id": "065a78eb",
   "metadata": {},
   "outputs": [],
   "source": [
    "tuplas = list(tuplas)"
   ]
  },
  {
   "cell_type": "code",
   "execution_count": 19,
   "id": "80b08bda",
   "metadata": {},
   "outputs": [
    {
     "data": {
      "text/plain": [
       "[('BRASIL', 2017),\n",
       " ('BRASIL', 2018),\n",
       " ('BRASIL', 2019),\n",
       " ('ARGENTINA', 2017),\n",
       " ('ARGENTINA', 2018),\n",
       " ('ARGENTINA', 2019)]"
      ]
     },
     "execution_count": 19,
     "metadata": {},
     "output_type": "execute_result"
    }
   ],
   "source": [
    "tuplas"
   ]
  },
  {
   "cell_type": "code",
   "execution_count": 20,
   "id": "2db4811c",
   "metadata": {},
   "outputs": [],
   "source": [
    "multi = pd.MultiIndex.from_tuples(tuplas)"
   ]
  },
  {
   "cell_type": "code",
   "execution_count": 21,
   "id": "063df0bd",
   "metadata": {},
   "outputs": [
    {
     "data": {
      "text/plain": [
       "MultiIndex([(   'BRASIL', 2017),\n",
       "            (   'BRASIL', 2018),\n",
       "            (   'BRASIL', 2019),\n",
       "            ('ARGENTINA', 2017),\n",
       "            ('ARGENTINA', 2018),\n",
       "            ('ARGENTINA', 2019)],\n",
       "           )"
      ]
     },
     "execution_count": 21,
     "metadata": {},
     "output_type": "execute_result"
    }
   ],
   "source": [
    "multi"
   ]
  },
  {
   "cell_type": "code",
   "execution_count": 23,
   "id": "d3380e2e",
   "metadata": {},
   "outputs": [],
   "source": [
    "df1 = pd.DataFrame(data = np.random.randn(6,2),index = multi, columns = ['EXP TRIGO', 'EXP ARROZ'])"
   ]
  },
  {
   "cell_type": "code",
   "execution_count": 24,
   "id": "463ca4c4",
   "metadata": {},
   "outputs": [
    {
     "data": {
      "text/html": [
       "<div>\n",
       "<style scoped>\n",
       "    .dataframe tbody tr th:only-of-type {\n",
       "        vertical-align: middle;\n",
       "    }\n",
       "\n",
       "    .dataframe tbody tr th {\n",
       "        vertical-align: top;\n",
       "    }\n",
       "\n",
       "    .dataframe thead th {\n",
       "        text-align: right;\n",
       "    }\n",
       "</style>\n",
       "<table border=\"1\" class=\"dataframe\">\n",
       "  <thead>\n",
       "    <tr style=\"text-align: right;\">\n",
       "      <th></th>\n",
       "      <th></th>\n",
       "      <th>EXP TRIGO</th>\n",
       "      <th>EXP ARROZ</th>\n",
       "    </tr>\n",
       "  </thead>\n",
       "  <tbody>\n",
       "    <tr>\n",
       "      <th rowspan=\"3\" valign=\"top\">BRASIL</th>\n",
       "      <th>2017</th>\n",
       "      <td>0.194114</td>\n",
       "      <td>-0.642256</td>\n",
       "    </tr>\n",
       "    <tr>\n",
       "      <th>2018</th>\n",
       "      <td>-1.298866</td>\n",
       "      <td>-1.786469</td>\n",
       "    </tr>\n",
       "    <tr>\n",
       "      <th>2019</th>\n",
       "      <td>0.166542</td>\n",
       "      <td>-0.884378</td>\n",
       "    </tr>\n",
       "    <tr>\n",
       "      <th rowspan=\"3\" valign=\"top\">ARGENTINA</th>\n",
       "      <th>2017</th>\n",
       "      <td>-0.080121</td>\n",
       "      <td>0.250484</td>\n",
       "    </tr>\n",
       "    <tr>\n",
       "      <th>2018</th>\n",
       "      <td>-0.000506</td>\n",
       "      <td>-0.118091</td>\n",
       "    </tr>\n",
       "    <tr>\n",
       "      <th>2019</th>\n",
       "      <td>-0.295642</td>\n",
       "      <td>-0.457865</td>\n",
       "    </tr>\n",
       "  </tbody>\n",
       "</table>\n",
       "</div>"
      ],
      "text/plain": [
       "                EXP TRIGO  EXP ARROZ\n",
       "BRASIL    2017   0.194114  -0.642256\n",
       "          2018  -1.298866  -1.786469\n",
       "          2019   0.166542  -0.884378\n",
       "ARGENTINA 2017  -0.080121   0.250484\n",
       "          2018  -0.000506  -0.118091\n",
       "          2019  -0.295642  -0.457865"
      ]
     },
     "execution_count": 24,
     "metadata": {},
     "output_type": "execute_result"
    }
   ],
   "source": [
    "df1"
   ]
  },
  {
   "cell_type": "code",
   "execution_count": 25,
   "id": "0cb008db",
   "metadata": {},
   "outputs": [],
   "source": [
    "df1.index.names = ['PAÍS','ANO']"
   ]
  },
  {
   "cell_type": "code",
   "execution_count": 26,
   "id": "fc58b35e",
   "metadata": {},
   "outputs": [
    {
     "data": {
      "text/html": [
       "<div>\n",
       "<style scoped>\n",
       "    .dataframe tbody tr th:only-of-type {\n",
       "        vertical-align: middle;\n",
       "    }\n",
       "\n",
       "    .dataframe tbody tr th {\n",
       "        vertical-align: top;\n",
       "    }\n",
       "\n",
       "    .dataframe thead th {\n",
       "        text-align: right;\n",
       "    }\n",
       "</style>\n",
       "<table border=\"1\" class=\"dataframe\">\n",
       "  <thead>\n",
       "    <tr style=\"text-align: right;\">\n",
       "      <th></th>\n",
       "      <th></th>\n",
       "      <th>EXP TRIGO</th>\n",
       "      <th>EXP ARROZ</th>\n",
       "    </tr>\n",
       "    <tr>\n",
       "      <th>PAÍS</th>\n",
       "      <th>ANO</th>\n",
       "      <th></th>\n",
       "      <th></th>\n",
       "    </tr>\n",
       "  </thead>\n",
       "  <tbody>\n",
       "    <tr>\n",
       "      <th rowspan=\"3\" valign=\"top\">BRASIL</th>\n",
       "      <th>2017</th>\n",
       "      <td>0.194114</td>\n",
       "      <td>-0.642256</td>\n",
       "    </tr>\n",
       "    <tr>\n",
       "      <th>2018</th>\n",
       "      <td>-1.298866</td>\n",
       "      <td>-1.786469</td>\n",
       "    </tr>\n",
       "    <tr>\n",
       "      <th>2019</th>\n",
       "      <td>0.166542</td>\n",
       "      <td>-0.884378</td>\n",
       "    </tr>\n",
       "    <tr>\n",
       "      <th rowspan=\"3\" valign=\"top\">ARGENTINA</th>\n",
       "      <th>2017</th>\n",
       "      <td>-0.080121</td>\n",
       "      <td>0.250484</td>\n",
       "    </tr>\n",
       "    <tr>\n",
       "      <th>2018</th>\n",
       "      <td>-0.000506</td>\n",
       "      <td>-0.118091</td>\n",
       "    </tr>\n",
       "    <tr>\n",
       "      <th>2019</th>\n",
       "      <td>-0.295642</td>\n",
       "      <td>-0.457865</td>\n",
       "    </tr>\n",
       "  </tbody>\n",
       "</table>\n",
       "</div>"
      ],
      "text/plain": [
       "                EXP TRIGO  EXP ARROZ\n",
       "PAÍS      ANO                       \n",
       "BRASIL    2017   0.194114  -0.642256\n",
       "          2018  -1.298866  -1.786469\n",
       "          2019   0.166542  -0.884378\n",
       "ARGENTINA 2017  -0.080121   0.250484\n",
       "          2018  -0.000506  -0.118091\n",
       "          2019  -0.295642  -0.457865"
      ]
     },
     "execution_count": 26,
     "metadata": {},
     "output_type": "execute_result"
    }
   ],
   "source": [
    "df1"
   ]
  },
  {
   "cell_type": "markdown",
   "id": "3fd0ebee",
   "metadata": {},
   "source": [
    "### Encontrando valores"
   ]
  },
  {
   "cell_type": "code",
   "execution_count": 28,
   "id": "84b99513",
   "metadata": {},
   "outputs": [
    {
     "data": {
      "text/plain": [
       "PAÍS       ANO \n",
       "BRASIL     2017   -0.642256\n",
       "           2018   -1.786469\n",
       "           2019   -0.884378\n",
       "ARGENTINA  2017    0.250484\n",
       "           2018   -0.118091\n",
       "           2019   -0.457865\n",
       "Name: EXP ARROZ, dtype: float64"
      ]
     },
     "execution_count": 28,
     "metadata": {},
     "output_type": "execute_result"
    }
   ],
   "source": [
    "df1['EXP ARROZ']"
   ]
  },
  {
   "cell_type": "code",
   "execution_count": 29,
   "id": "5b93b3a2",
   "metadata": {},
   "outputs": [
    {
     "data": {
      "text/html": [
       "<div>\n",
       "<style scoped>\n",
       "    .dataframe tbody tr th:only-of-type {\n",
       "        vertical-align: middle;\n",
       "    }\n",
       "\n",
       "    .dataframe tbody tr th {\n",
       "        vertical-align: top;\n",
       "    }\n",
       "\n",
       "    .dataframe thead th {\n",
       "        text-align: right;\n",
       "    }\n",
       "</style>\n",
       "<table border=\"1\" class=\"dataframe\">\n",
       "  <thead>\n",
       "    <tr style=\"text-align: right;\">\n",
       "      <th></th>\n",
       "      <th>EXP TRIGO</th>\n",
       "      <th>EXP ARROZ</th>\n",
       "    </tr>\n",
       "    <tr>\n",
       "      <th>ANO</th>\n",
       "      <th></th>\n",
       "      <th></th>\n",
       "    </tr>\n",
       "  </thead>\n",
       "  <tbody>\n",
       "    <tr>\n",
       "      <th>2017</th>\n",
       "      <td>0.194114</td>\n",
       "      <td>-0.642256</td>\n",
       "    </tr>\n",
       "    <tr>\n",
       "      <th>2018</th>\n",
       "      <td>-1.298866</td>\n",
       "      <td>-1.786469</td>\n",
       "    </tr>\n",
       "    <tr>\n",
       "      <th>2019</th>\n",
       "      <td>0.166542</td>\n",
       "      <td>-0.884378</td>\n",
       "    </tr>\n",
       "  </tbody>\n",
       "</table>\n",
       "</div>"
      ],
      "text/plain": [
       "      EXP TRIGO  EXP ARROZ\n",
       "ANO                       \n",
       "2017   0.194114  -0.642256\n",
       "2018  -1.298866  -1.786469\n",
       "2019   0.166542  -0.884378"
      ]
     },
     "execution_count": 29,
     "metadata": {},
     "output_type": "execute_result"
    }
   ],
   "source": [
    "df1.loc['BRASIL']"
   ]
  },
  {
   "cell_type": "code",
   "execution_count": 30,
   "id": "16588c09",
   "metadata": {},
   "outputs": [
    {
     "data": {
      "text/html": [
       "<div>\n",
       "<style scoped>\n",
       "    .dataframe tbody tr th:only-of-type {\n",
       "        vertical-align: middle;\n",
       "    }\n",
       "\n",
       "    .dataframe tbody tr th {\n",
       "        vertical-align: top;\n",
       "    }\n",
       "\n",
       "    .dataframe thead th {\n",
       "        text-align: right;\n",
       "    }\n",
       "</style>\n",
       "<table border=\"1\" class=\"dataframe\">\n",
       "  <thead>\n",
       "    <tr style=\"text-align: right;\">\n",
       "      <th></th>\n",
       "      <th>EXP TRIGO</th>\n",
       "      <th>EXP ARROZ</th>\n",
       "    </tr>\n",
       "    <tr>\n",
       "      <th>PAÍS</th>\n",
       "      <th></th>\n",
       "      <th></th>\n",
       "    </tr>\n",
       "  </thead>\n",
       "  <tbody>\n",
       "    <tr>\n",
       "      <th>BRASIL</th>\n",
       "      <td>0.194114</td>\n",
       "      <td>-0.642256</td>\n",
       "    </tr>\n",
       "    <tr>\n",
       "      <th>ARGENTINA</th>\n",
       "      <td>-0.080121</td>\n",
       "      <td>0.250484</td>\n",
       "    </tr>\n",
       "  </tbody>\n",
       "</table>\n",
       "</div>"
      ],
      "text/plain": [
       "           EXP TRIGO  EXP ARROZ\n",
       "PAÍS                           \n",
       "BRASIL      0.194114  -0.642256\n",
       "ARGENTINA  -0.080121   0.250484"
      ]
     },
     "execution_count": 30,
     "metadata": {},
     "output_type": "execute_result"
    }
   ],
   "source": [
    "df1.xs(2017,level=1)"
   ]
  },
  {
   "cell_type": "code",
   "execution_count": 31,
   "id": "a962c307",
   "metadata": {},
   "outputs": [
    {
     "data": {
      "text/html": [
       "<div>\n",
       "<style scoped>\n",
       "    .dataframe tbody tr th:only-of-type {\n",
       "        vertical-align: middle;\n",
       "    }\n",
       "\n",
       "    .dataframe tbody tr th {\n",
       "        vertical-align: top;\n",
       "    }\n",
       "\n",
       "    .dataframe thead th {\n",
       "        text-align: right;\n",
       "    }\n",
       "</style>\n",
       "<table border=\"1\" class=\"dataframe\">\n",
       "  <thead>\n",
       "    <tr style=\"text-align: right;\">\n",
       "      <th></th>\n",
       "      <th></th>\n",
       "      <th>EXP TRIGO</th>\n",
       "      <th>EXP ARROZ</th>\n",
       "    </tr>\n",
       "    <tr>\n",
       "      <th>PAÍS</th>\n",
       "      <th>ANO</th>\n",
       "      <th></th>\n",
       "      <th></th>\n",
       "    </tr>\n",
       "  </thead>\n",
       "  <tbody>\n",
       "    <tr>\n",
       "      <th rowspan=\"2\" valign=\"top\">BRASIL</th>\n",
       "      <th>2017</th>\n",
       "      <td>0.194114</td>\n",
       "      <td>-0.642256</td>\n",
       "    </tr>\n",
       "    <tr>\n",
       "      <th>2018</th>\n",
       "      <td>-1.298866</td>\n",
       "      <td>-1.786469</td>\n",
       "    </tr>\n",
       "  </tbody>\n",
       "</table>\n",
       "</div>"
      ],
      "text/plain": [
       "             EXP TRIGO  EXP ARROZ\n",
       "PAÍS   ANO                       \n",
       "BRASIL 2017   0.194114  -0.642256\n",
       "       2018  -1.298866  -1.786469"
      ]
     },
     "execution_count": 31,
     "metadata": {},
     "output_type": "execute_result"
    }
   ],
   "source": [
    "df1[:2]"
   ]
  },
  {
   "cell_type": "code",
   "execution_count": 32,
   "id": "5e5cbcac",
   "metadata": {},
   "outputs": [
    {
     "data": {
      "text/html": [
       "<div>\n",
       "<style scoped>\n",
       "    .dataframe tbody tr th:only-of-type {\n",
       "        vertical-align: middle;\n",
       "    }\n",
       "\n",
       "    .dataframe tbody tr th {\n",
       "        vertical-align: top;\n",
       "    }\n",
       "\n",
       "    .dataframe thead th {\n",
       "        text-align: right;\n",
       "    }\n",
       "</style>\n",
       "<table border=\"1\" class=\"dataframe\">\n",
       "  <thead>\n",
       "    <tr style=\"text-align: right;\">\n",
       "      <th></th>\n",
       "      <th></th>\n",
       "      <th>EXP TRIGO</th>\n",
       "      <th>EXP ARROZ</th>\n",
       "    </tr>\n",
       "    <tr>\n",
       "      <th>PAÍS</th>\n",
       "      <th>ANO</th>\n",
       "      <th></th>\n",
       "      <th></th>\n",
       "    </tr>\n",
       "  </thead>\n",
       "  <tbody>\n",
       "    <tr>\n",
       "      <th rowspan=\"3\" valign=\"top\">BRASIL</th>\n",
       "      <th>2017</th>\n",
       "      <td>0.194114</td>\n",
       "      <td>-0.642256</td>\n",
       "    </tr>\n",
       "    <tr>\n",
       "      <th>2018</th>\n",
       "      <td>-1.298866</td>\n",
       "      <td>-1.786469</td>\n",
       "    </tr>\n",
       "    <tr>\n",
       "      <th>2019</th>\n",
       "      <td>0.166542</td>\n",
       "      <td>-0.884378</td>\n",
       "    </tr>\n",
       "    <tr>\n",
       "      <th rowspan=\"2\" valign=\"top\">ARGENTINA</th>\n",
       "      <th>2017</th>\n",
       "      <td>-0.080121</td>\n",
       "      <td>0.250484</td>\n",
       "    </tr>\n",
       "    <tr>\n",
       "      <th>2018</th>\n",
       "      <td>-0.000506</td>\n",
       "      <td>-0.118091</td>\n",
       "    </tr>\n",
       "  </tbody>\n",
       "</table>\n",
       "</div>"
      ],
      "text/plain": [
       "                EXP TRIGO  EXP ARROZ\n",
       "PAÍS      ANO                       \n",
       "BRASIL    2017   0.194114  -0.642256\n",
       "          2018  -1.298866  -1.786469\n",
       "          2019   0.166542  -0.884378\n",
       "ARGENTINA 2017  -0.080121   0.250484\n",
       "          2018  -0.000506  -0.118091"
      ]
     },
     "execution_count": 32,
     "metadata": {},
     "output_type": "execute_result"
    }
   ],
   "source": [
    "df1[0:5]"
   ]
  },
  {
   "cell_type": "code",
   "execution_count": 33,
   "id": "b7542190",
   "metadata": {},
   "outputs": [
    {
     "data": {
      "text/html": [
       "<div>\n",
       "<style scoped>\n",
       "    .dataframe tbody tr th:only-of-type {\n",
       "        vertical-align: middle;\n",
       "    }\n",
       "\n",
       "    .dataframe tbody tr th {\n",
       "        vertical-align: top;\n",
       "    }\n",
       "\n",
       "    .dataframe thead th {\n",
       "        text-align: right;\n",
       "    }\n",
       "</style>\n",
       "<table border=\"1\" class=\"dataframe\">\n",
       "  <thead>\n",
       "    <tr style=\"text-align: right;\">\n",
       "      <th></th>\n",
       "      <th></th>\n",
       "      <th>EXP TRIGO</th>\n",
       "      <th>EXP ARROZ</th>\n",
       "    </tr>\n",
       "    <tr>\n",
       "      <th>PAÍS</th>\n",
       "      <th>ANO</th>\n",
       "      <th></th>\n",
       "      <th></th>\n",
       "    </tr>\n",
       "  </thead>\n",
       "  <tbody>\n",
       "    <tr>\n",
       "      <th rowspan=\"3\" valign=\"top\">BRASIL</th>\n",
       "      <th>2017</th>\n",
       "      <td>0.194114</td>\n",
       "      <td>-0.642256</td>\n",
       "    </tr>\n",
       "    <tr>\n",
       "      <th>2018</th>\n",
       "      <td>-1.298866</td>\n",
       "      <td>-1.786469</td>\n",
       "    </tr>\n",
       "    <tr>\n",
       "      <th>2019</th>\n",
       "      <td>0.166542</td>\n",
       "      <td>-0.884378</td>\n",
       "    </tr>\n",
       "    <tr>\n",
       "      <th rowspan=\"3\" valign=\"top\">ARGENTINA</th>\n",
       "      <th>2017</th>\n",
       "      <td>-0.080121</td>\n",
       "      <td>0.250484</td>\n",
       "    </tr>\n",
       "    <tr>\n",
       "      <th>2018</th>\n",
       "      <td>-0.000506</td>\n",
       "      <td>-0.118091</td>\n",
       "    </tr>\n",
       "    <tr>\n",
       "      <th>2019</th>\n",
       "      <td>-0.295642</td>\n",
       "      <td>-0.457865</td>\n",
       "    </tr>\n",
       "  </tbody>\n",
       "</table>\n",
       "</div>"
      ],
      "text/plain": [
       "                EXP TRIGO  EXP ARROZ\n",
       "PAÍS      ANO                       \n",
       "BRASIL    2017   0.194114  -0.642256\n",
       "          2018  -1.298866  -1.786469\n",
       "          2019   0.166542  -0.884378\n",
       "ARGENTINA 2017  -0.080121   0.250484\n",
       "          2018  -0.000506  -0.118091\n",
       "          2019  -0.295642  -0.457865"
      ]
     },
     "execution_count": 33,
     "metadata": {},
     "output_type": "execute_result"
    }
   ],
   "source": [
    "df1[:]"
   ]
  },
  {
   "cell_type": "code",
   "execution_count": 34,
   "id": "68288171",
   "metadata": {},
   "outputs": [
    {
     "data": {
      "text/html": [
       "<div>\n",
       "<style scoped>\n",
       "    .dataframe tbody tr th:only-of-type {\n",
       "        vertical-align: middle;\n",
       "    }\n",
       "\n",
       "    .dataframe tbody tr th {\n",
       "        vertical-align: top;\n",
       "    }\n",
       "\n",
       "    .dataframe thead th {\n",
       "        text-align: right;\n",
       "    }\n",
       "</style>\n",
       "<table border=\"1\" class=\"dataframe\">\n",
       "  <thead>\n",
       "    <tr style=\"text-align: right;\">\n",
       "      <th></th>\n",
       "      <th></th>\n",
       "      <th>EXP TRIGO</th>\n",
       "      <th>EXP ARROZ</th>\n",
       "    </tr>\n",
       "    <tr>\n",
       "      <th>PAÍS</th>\n",
       "      <th>ANO</th>\n",
       "      <th></th>\n",
       "      <th></th>\n",
       "    </tr>\n",
       "  </thead>\n",
       "  <tbody>\n",
       "    <tr>\n",
       "      <th rowspan=\"3\" valign=\"top\">BRASIL</th>\n",
       "      <th>2017</th>\n",
       "      <td>0.194114</td>\n",
       "      <td>-0.642256</td>\n",
       "    </tr>\n",
       "    <tr>\n",
       "      <th>2018</th>\n",
       "      <td>-1.298866</td>\n",
       "      <td>-1.786469</td>\n",
       "    </tr>\n",
       "    <tr>\n",
       "      <th>2019</th>\n",
       "      <td>0.166542</td>\n",
       "      <td>-0.884378</td>\n",
       "    </tr>\n",
       "    <tr>\n",
       "      <th rowspan=\"3\" valign=\"top\">ARGENTINA</th>\n",
       "      <th>2017</th>\n",
       "      <td>-0.080121</td>\n",
       "      <td>0.250484</td>\n",
       "    </tr>\n",
       "    <tr>\n",
       "      <th>2018</th>\n",
       "      <td>-0.000506</td>\n",
       "      <td>-0.118091</td>\n",
       "    </tr>\n",
       "    <tr>\n",
       "      <th>2019</th>\n",
       "      <td>-0.295642</td>\n",
       "      <td>-0.457865</td>\n",
       "    </tr>\n",
       "  </tbody>\n",
       "</table>\n",
       "</div>"
      ],
      "text/plain": [
       "                EXP TRIGO  EXP ARROZ\n",
       "PAÍS      ANO                       \n",
       "BRASIL    2017   0.194114  -0.642256\n",
       "          2018  -1.298866  -1.786469\n",
       "          2019   0.166542  -0.884378\n",
       "ARGENTINA 2017  -0.080121   0.250484\n",
       "          2018  -0.000506  -0.118091\n",
       "          2019  -0.295642  -0.457865"
      ]
     },
     "execution_count": 34,
     "metadata": {},
     "output_type": "execute_result"
    }
   ],
   "source": [
    "df1[['EXP TRIGO','EXP ARROZ']]"
   ]
  },
  {
   "cell_type": "markdown",
   "id": "e798604f",
   "metadata": {},
   "source": [
    "### Vendo o DF de outra maneira"
   ]
  },
  {
   "cell_type": "code",
   "execution_count": 36,
   "id": "524d7d3c",
   "metadata": {},
   "outputs": [
    {
     "data": {
      "text/html": [
       "<div>\n",
       "<style scoped>\n",
       "    .dataframe tbody tr th:only-of-type {\n",
       "        vertical-align: middle;\n",
       "    }\n",
       "\n",
       "    .dataframe tbody tr th {\n",
       "        vertical-align: top;\n",
       "    }\n",
       "\n",
       "    .dataframe thead tr th {\n",
       "        text-align: left;\n",
       "    }\n",
       "\n",
       "    .dataframe thead tr:last-of-type th {\n",
       "        text-align: right;\n",
       "    }\n",
       "</style>\n",
       "<table border=\"1\" class=\"dataframe\">\n",
       "  <thead>\n",
       "    <tr>\n",
       "      <th></th>\n",
       "      <th colspan=\"3\" halign=\"left\">EXP TRIGO</th>\n",
       "      <th colspan=\"3\" halign=\"left\">EXP ARROZ</th>\n",
       "    </tr>\n",
       "    <tr>\n",
       "      <th>ANO</th>\n",
       "      <th>2017</th>\n",
       "      <th>2018</th>\n",
       "      <th>2019</th>\n",
       "      <th>2017</th>\n",
       "      <th>2018</th>\n",
       "      <th>2019</th>\n",
       "    </tr>\n",
       "    <tr>\n",
       "      <th>PAÍS</th>\n",
       "      <th></th>\n",
       "      <th></th>\n",
       "      <th></th>\n",
       "      <th></th>\n",
       "      <th></th>\n",
       "      <th></th>\n",
       "    </tr>\n",
       "  </thead>\n",
       "  <tbody>\n",
       "    <tr>\n",
       "      <th>ARGENTINA</th>\n",
       "      <td>-0.080121</td>\n",
       "      <td>-0.000506</td>\n",
       "      <td>-0.295642</td>\n",
       "      <td>0.250484</td>\n",
       "      <td>-0.118091</td>\n",
       "      <td>-0.457865</td>\n",
       "    </tr>\n",
       "    <tr>\n",
       "      <th>BRASIL</th>\n",
       "      <td>0.194114</td>\n",
       "      <td>-1.298866</td>\n",
       "      <td>0.166542</td>\n",
       "      <td>-0.642256</td>\n",
       "      <td>-1.786469</td>\n",
       "      <td>-0.884378</td>\n",
       "    </tr>\n",
       "  </tbody>\n",
       "</table>\n",
       "</div>"
      ],
      "text/plain": [
       "          EXP TRIGO                     EXP ARROZ                    \n",
       "ANO            2017      2018      2019      2017      2018      2019\n",
       "PAÍS                                                                 \n",
       "ARGENTINA -0.080121 -0.000506 -0.295642  0.250484 -0.118091 -0.457865\n",
       "BRASIL     0.194114 -1.298866  0.166542 -0.642256 -1.786469 -0.884378"
      ]
     },
     "execution_count": 36,
     "metadata": {},
     "output_type": "execute_result"
    }
   ],
   "source": [
    "df1.unstack()"
   ]
  },
  {
   "cell_type": "code",
   "execution_count": 37,
   "id": "34e5cfe9",
   "metadata": {},
   "outputs": [],
   "source": [
    "df2 = df1.unstack()"
   ]
  },
  {
   "cell_type": "code",
   "execution_count": 38,
   "id": "3d926211",
   "metadata": {},
   "outputs": [
    {
     "data": {
      "text/html": [
       "<div>\n",
       "<style scoped>\n",
       "    .dataframe tbody tr th:only-of-type {\n",
       "        vertical-align: middle;\n",
       "    }\n",
       "\n",
       "    .dataframe tbody tr th {\n",
       "        vertical-align: top;\n",
       "    }\n",
       "\n",
       "    .dataframe thead tr th {\n",
       "        text-align: left;\n",
       "    }\n",
       "\n",
       "    .dataframe thead tr:last-of-type th {\n",
       "        text-align: right;\n",
       "    }\n",
       "</style>\n",
       "<table border=\"1\" class=\"dataframe\">\n",
       "  <thead>\n",
       "    <tr>\n",
       "      <th></th>\n",
       "      <th colspan=\"3\" halign=\"left\">EXP TRIGO</th>\n",
       "      <th colspan=\"3\" halign=\"left\">EXP ARROZ</th>\n",
       "    </tr>\n",
       "    <tr>\n",
       "      <th>ANO</th>\n",
       "      <th>2017</th>\n",
       "      <th>2018</th>\n",
       "      <th>2019</th>\n",
       "      <th>2017</th>\n",
       "      <th>2018</th>\n",
       "      <th>2019</th>\n",
       "    </tr>\n",
       "    <tr>\n",
       "      <th>PAÍS</th>\n",
       "      <th></th>\n",
       "      <th></th>\n",
       "      <th></th>\n",
       "      <th></th>\n",
       "      <th></th>\n",
       "      <th></th>\n",
       "    </tr>\n",
       "  </thead>\n",
       "  <tbody>\n",
       "    <tr>\n",
       "      <th>ARGENTINA</th>\n",
       "      <td>-0.080121</td>\n",
       "      <td>-0.000506</td>\n",
       "      <td>-0.295642</td>\n",
       "      <td>0.250484</td>\n",
       "      <td>-0.118091</td>\n",
       "      <td>-0.457865</td>\n",
       "    </tr>\n",
       "    <tr>\n",
       "      <th>BRASIL</th>\n",
       "      <td>0.194114</td>\n",
       "      <td>-1.298866</td>\n",
       "      <td>0.166542</td>\n",
       "      <td>-0.642256</td>\n",
       "      <td>-1.786469</td>\n",
       "      <td>-0.884378</td>\n",
       "    </tr>\n",
       "  </tbody>\n",
       "</table>\n",
       "</div>"
      ],
      "text/plain": [
       "          EXP TRIGO                     EXP ARROZ                    \n",
       "ANO            2017      2018      2019      2017      2018      2019\n",
       "PAÍS                                                                 \n",
       "ARGENTINA -0.080121 -0.000506 -0.295642  0.250484 -0.118091 -0.457865\n",
       "BRASIL     0.194114 -1.298866  0.166542 -0.642256 -1.786469 -0.884378"
      ]
     },
     "execution_count": 38,
     "metadata": {},
     "output_type": "execute_result"
    }
   ],
   "source": [
    "df2"
   ]
  },
  {
   "cell_type": "code",
   "execution_count": 39,
   "id": "d84dc15e",
   "metadata": {},
   "outputs": [
    {
     "data": {
      "text/html": [
       "<div>\n",
       "<style scoped>\n",
       "    .dataframe tbody tr th:only-of-type {\n",
       "        vertical-align: middle;\n",
       "    }\n",
       "\n",
       "    .dataframe tbody tr th {\n",
       "        vertical-align: top;\n",
       "    }\n",
       "\n",
       "    .dataframe thead th {\n",
       "        text-align: right;\n",
       "    }\n",
       "</style>\n",
       "<table border=\"1\" class=\"dataframe\">\n",
       "  <thead>\n",
       "    <tr style=\"text-align: right;\">\n",
       "      <th>ANO</th>\n",
       "      <th>2017</th>\n",
       "      <th>2018</th>\n",
       "      <th>2019</th>\n",
       "    </tr>\n",
       "    <tr>\n",
       "      <th>PAÍS</th>\n",
       "      <th></th>\n",
       "      <th></th>\n",
       "      <th></th>\n",
       "    </tr>\n",
       "  </thead>\n",
       "  <tbody>\n",
       "    <tr>\n",
       "      <th>ARGENTINA</th>\n",
       "      <td>-0.080121</td>\n",
       "      <td>-0.000506</td>\n",
       "      <td>-0.295642</td>\n",
       "    </tr>\n",
       "    <tr>\n",
       "      <th>BRASIL</th>\n",
       "      <td>0.194114</td>\n",
       "      <td>-1.298866</td>\n",
       "      <td>0.166542</td>\n",
       "    </tr>\n",
       "  </tbody>\n",
       "</table>\n",
       "</div>"
      ],
      "text/plain": [
       "ANO            2017      2018      2019\n",
       "PAÍS                                   \n",
       "ARGENTINA -0.080121 -0.000506 -0.295642\n",
       "BRASIL     0.194114 -1.298866  0.166542"
      ]
     },
     "execution_count": 39,
     "metadata": {},
     "output_type": "execute_result"
    }
   ],
   "source": [
    "df2['EXP TRIGO']"
   ]
  },
  {
   "cell_type": "code",
   "execution_count": 43,
   "id": "3b88faf8",
   "metadata": {},
   "outputs": [
    {
     "data": {
      "text/html": [
       "<div>\n",
       "<style scoped>\n",
       "    .dataframe tbody tr th:only-of-type {\n",
       "        vertical-align: middle;\n",
       "    }\n",
       "\n",
       "    .dataframe tbody tr th {\n",
       "        vertical-align: top;\n",
       "    }\n",
       "\n",
       "    .dataframe thead th {\n",
       "        text-align: right;\n",
       "    }\n",
       "</style>\n",
       "<table border=\"1\" class=\"dataframe\">\n",
       "  <thead>\n",
       "    <tr style=\"text-align: right;\">\n",
       "      <th></th>\n",
       "      <th>EXP TRIGO</th>\n",
       "      <th>EXP ARROZ</th>\n",
       "    </tr>\n",
       "    <tr>\n",
       "      <th>PAÍS</th>\n",
       "      <th></th>\n",
       "      <th></th>\n",
       "    </tr>\n",
       "  </thead>\n",
       "  <tbody>\n",
       "    <tr>\n",
       "      <th>ARGENTINA</th>\n",
       "      <td>-0.080121</td>\n",
       "      <td>0.250484</td>\n",
       "    </tr>\n",
       "    <tr>\n",
       "      <th>BRASIL</th>\n",
       "      <td>0.194114</td>\n",
       "      <td>-0.642256</td>\n",
       "    </tr>\n",
       "  </tbody>\n",
       "</table>\n",
       "</div>"
      ],
      "text/plain": [
       "           EXP TRIGO  EXP ARROZ\n",
       "PAÍS                           \n",
       "ARGENTINA  -0.080121   0.250484\n",
       "BRASIL      0.194114  -0.642256"
      ]
     },
     "execution_count": 43,
     "metadata": {},
     "output_type": "execute_result"
    }
   ],
   "source": [
    "df2.xs(2017,axis=1,level=1)"
   ]
  },
  {
   "cell_type": "code",
   "execution_count": null,
   "id": "f5aaa822",
   "metadata": {},
   "outputs": [],
   "source": []
  }
 ],
 "metadata": {
  "kernelspec": {
   "display_name": "Python 3",
   "language": "python",
   "name": "python3"
  },
  "language_info": {
   "codemirror_mode": {
    "name": "ipython",
    "version": 3
   },
   "file_extension": ".py",
   "mimetype": "text/x-python",
   "name": "python",
   "nbconvert_exporter": "python",
   "pygments_lexer": "ipython3",
   "version": "3.8.8"
  }
 },
 "nbformat": 4,
 "nbformat_minor": 5
}
