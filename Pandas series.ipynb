{
 "cells": [
  {
   "cell_type": "code",
   "execution_count": 2,
   "id": "f21fb72c",
   "metadata": {},
   "outputs": [],
   "source": [
    "import pandas as pd"
   ]
  },
  {
   "cell_type": "code",
   "execution_count": 4,
   "id": "db498b32",
   "metadata": {},
   "outputs": [],
   "source": [
    "import numpy as np"
   ]
  },
  {
   "cell_type": "code",
   "execution_count": 5,
   "id": "0516388a",
   "metadata": {},
   "outputs": [],
   "source": [
    "s = pd.Series([1,2,3,'ola',np.nan,6,8])"
   ]
  },
  {
   "cell_type": "code",
   "execution_count": 6,
   "id": "ef9829dd",
   "metadata": {},
   "outputs": [
    {
     "data": {
      "text/plain": [
       "0      1\n",
       "1      2\n",
       "2      3\n",
       "3    ola\n",
       "4    NaN\n",
       "5      6\n",
       "6      8\n",
       "dtype: object"
      ]
     },
     "execution_count": 6,
     "metadata": {},
     "output_type": "execute_result"
    }
   ],
   "source": [
    "s"
   ]
  },
  {
   "cell_type": "markdown",
   "id": "40c87dea",
   "metadata": {},
   "source": [
    "# Series a partir de uma lista"
   ]
  },
  {
   "cell_type": "code",
   "execution_count": 8,
   "id": "fed066f2",
   "metadata": {},
   "outputs": [],
   "source": [
    "lista = [10,20,30,40,50]"
   ]
  },
  {
   "cell_type": "code",
   "execution_count": 13,
   "id": "a42e27a0",
   "metadata": {},
   "outputs": [],
   "source": [
    "series1 = pd.Series(lista)"
   ]
  },
  {
   "cell_type": "code",
   "execution_count": 14,
   "id": "e596e776",
   "metadata": {},
   "outputs": [
    {
     "data": {
      "text/plain": [
       "0    10\n",
       "1    20\n",
       "2    30\n",
       "3    40\n",
       "4    50\n",
       "dtype: int64"
      ]
     },
     "execution_count": 14,
     "metadata": {},
     "output_type": "execute_result"
    }
   ],
   "source": [
    "series1"
   ]
  },
  {
   "cell_type": "code",
   "execution_count": 15,
   "id": "25102bfe",
   "metadata": {},
   "outputs": [
    {
     "data": {
      "text/plain": [
       "20"
      ]
     },
     "execution_count": 15,
     "metadata": {},
     "output_type": "execute_result"
    }
   ],
   "source": [
    "series1[1]"
   ]
  },
  {
   "cell_type": "markdown",
   "id": "eefc8550",
   "metadata": {},
   "source": [
    "# Series a partir de um dicionário"
   ]
  },
  {
   "cell_type": "code",
   "execution_count": 11,
   "id": "76cb9a93",
   "metadata": {},
   "outputs": [],
   "source": [
    "dicionario = {'telefone':'321712', 'telefone2':'3123214', 'Telefone3':'312413'}"
   ]
  },
  {
   "cell_type": "code",
   "execution_count": 16,
   "id": "4714b72b",
   "metadata": {},
   "outputs": [],
   "source": [
    "series2 = pd.Series(dicionario)"
   ]
  },
  {
   "cell_type": "code",
   "execution_count": 18,
   "id": "a1fe580f",
   "metadata": {},
   "outputs": [
    {
     "data": {
      "text/plain": [
       "telefone      321712\n",
       "telefone2    3123214\n",
       "Telefone3     312413\n",
       "dtype: object"
      ]
     },
     "execution_count": 18,
     "metadata": {},
     "output_type": "execute_result"
    }
   ],
   "source": [
    "series2"
   ]
  },
  {
   "cell_type": "code",
   "execution_count": 19,
   "id": "f2c516e5",
   "metadata": {},
   "outputs": [
    {
     "data": {
      "text/plain": [
       "'312413'"
      ]
     },
     "execution_count": 19,
     "metadata": {},
     "output_type": "execute_result"
    }
   ],
   "source": [
    "series2[2]"
   ]
  },
  {
   "cell_type": "code",
   "execution_count": 21,
   "id": "d94477c7",
   "metadata": {},
   "outputs": [
    {
     "data": {
      "text/plain": [
       "'312413'"
      ]
     },
     "execution_count": 21,
     "metadata": {},
     "output_type": "execute_result"
    }
   ],
   "source": [
    "series2['Telefone3']"
   ]
  },
  {
   "cell_type": "markdown",
   "id": "d9b2f5e8",
   "metadata": {},
   "source": [
    "# Series a partir de um array"
   ]
  },
  {
   "cell_type": "code",
   "execution_count": 23,
   "id": "d13ac405",
   "metadata": {},
   "outputs": [],
   "source": [
    "arr = np.array([10,20,30,40,50])"
   ]
  },
  {
   "cell_type": "code",
   "execution_count": 24,
   "id": "5da96b0b",
   "metadata": {},
   "outputs": [
    {
     "data": {
      "text/plain": [
       "array([10, 20, 30, 40, 50])"
      ]
     },
     "execution_count": 24,
     "metadata": {},
     "output_type": "execute_result"
    }
   ],
   "source": [
    "arr"
   ]
  },
  {
   "cell_type": "code",
   "execution_count": 25,
   "id": "013f89a8",
   "metadata": {},
   "outputs": [],
   "source": [
    "series3 = pd.Series(arr)"
   ]
  },
  {
   "cell_type": "code",
   "execution_count": 26,
   "id": "998c07ab",
   "metadata": {},
   "outputs": [
    {
     "data": {
      "text/plain": [
       "0    10\n",
       "1    20\n",
       "2    30\n",
       "3    40\n",
       "4    50\n",
       "dtype: int32"
      ]
     },
     "execution_count": 26,
     "metadata": {},
     "output_type": "execute_result"
    }
   ],
   "source": [
    "series3"
   ]
  },
  {
   "cell_type": "code",
   "execution_count": 27,
   "id": "3a6d6a4e",
   "metadata": {},
   "outputs": [],
   "source": [
    "series4 = pd.Series([10,20,30,40,50])"
   ]
  },
  {
   "cell_type": "code",
   "execution_count": 28,
   "id": "4bcfff10",
   "metadata": {},
   "outputs": [
    {
     "data": {
      "text/plain": [
       "0    10\n",
       "1    20\n",
       "2    30\n",
       "3    40\n",
       "4    50\n",
       "dtype: int64"
      ]
     },
     "execution_count": 28,
     "metadata": {},
     "output_type": "execute_result"
    }
   ],
   "source": [
    "series4"
   ]
  },
  {
   "cell_type": "code",
   "execution_count": 29,
   "id": "33c46662",
   "metadata": {},
   "outputs": [],
   "source": [
    "series5 = pd.Series([1,2,3,4],index=['Brazil','USA','Argentina','Chile'])"
   ]
  },
  {
   "cell_type": "code",
   "execution_count": 30,
   "id": "2575f702",
   "metadata": {},
   "outputs": [
    {
     "data": {
      "text/plain": [
       "Brazil       1\n",
       "USA          2\n",
       "Argentina    3\n",
       "Chile        4\n",
       "dtype: int64"
      ]
     },
     "execution_count": 30,
     "metadata": {},
     "output_type": "execute_result"
    }
   ],
   "source": [
    "series5"
   ]
  },
  {
   "cell_type": "code",
   "execution_count": 32,
   "id": "500164d7",
   "metadata": {},
   "outputs": [],
   "source": [
    "lista = [1,2,3,4]\n",
    "labels = ['Brazil','USA','Argentina','Chile']"
   ]
  },
  {
   "cell_type": "code",
   "execution_count": 33,
   "id": "d40a29b1",
   "metadata": {},
   "outputs": [],
   "source": [
    "series6 = pd.Series(data=lista,index=labels)"
   ]
  },
  {
   "cell_type": "code",
   "execution_count": 34,
   "id": "2ced18fb",
   "metadata": {},
   "outputs": [
    {
     "data": {
      "text/plain": [
       "Brazil       1\n",
       "USA          2\n",
       "Argentina    3\n",
       "Chile        4\n",
       "dtype: int64"
      ]
     },
     "execution_count": 34,
     "metadata": {},
     "output_type": "execute_result"
    }
   ],
   "source": [
    "series6"
   ]
  },
  {
   "cell_type": "code",
   "execution_count": 39,
   "id": "c5c12a5c",
   "metadata": {},
   "outputs": [],
   "source": [
    "series7 = pd.Series(data=[2,4,6,8], index= ['Brazil','USA','Chile','Uruguai'])"
   ]
  },
  {
   "cell_type": "code",
   "execution_count": 40,
   "id": "15fbe29f",
   "metadata": {},
   "outputs": [
    {
     "data": {
      "text/plain": [
       "Brazil     2\n",
       "USA        4\n",
       "Chile      6\n",
       "Uruguai    8\n",
       "dtype: int64"
      ]
     },
     "execution_count": 40,
     "metadata": {},
     "output_type": "execute_result"
    }
   ],
   "source": [
    "series7"
   ]
  },
  {
   "cell_type": "code",
   "execution_count": 41,
   "id": "1b464810",
   "metadata": {},
   "outputs": [
    {
     "data": {
      "text/plain": [
       "Argentina     NaN\n",
       "Brazil        3.0\n",
       "Chile        10.0\n",
       "USA           6.0\n",
       "Uruguai       NaN\n",
       "dtype: float64"
      ]
     },
     "execution_count": 41,
     "metadata": {},
     "output_type": "execute_result"
    }
   ],
   "source": [
    "series7 + series6 "
   ]
  },
  {
   "cell_type": "code",
   "execution_count": null,
   "id": "05582530",
   "metadata": {},
   "outputs": [],
   "source": []
  }
 ],
 "metadata": {
  "kernelspec": {
   "display_name": "Python 3",
   "language": "python",
   "name": "python3"
  },
  "language_info": {
   "codemirror_mode": {
    "name": "ipython",
    "version": 3
   },
   "file_extension": ".py",
   "mimetype": "text/x-python",
   "name": "python",
   "nbconvert_exporter": "python",
   "pygments_lexer": "ipython3",
   "version": "3.8.8"
  }
 },
 "nbformat": 4,
 "nbformat_minor": 5
}
